{
 "cells": [
  {
   "cell_type": "markdown",
   "id": "d64b8360-66ca-40ca-91bc-6c4296904378",
   "metadata": {
    "jp-MarkdownHeadingCollapsed": true
   },
   "source": [
    "# Install dependencies"
   ]
  },
  {
   "cell_type": "code",
   "execution_count": 1,
   "id": "680754b5-4072-4a7c-aa5d-116926f8724f",
   "metadata": {
    "scrolled": true
   },
   "outputs": [
    {
     "name": "stdout",
     "output_type": "stream",
     "text": [
      "Collecting pandas\n",
      "  Obtaining dependency information for pandas from https://files.pythonhosted.org/packages/02/52/815f643ed3afb3365354548b3c8b557dbf926a65c40ad5b6d9e455147c7e/pandas-2.1.2-cp310-cp310-manylinux_2_17_x86_64.manylinux2014_x86_64.whl.metadata\n",
      "  Using cached pandas-2.1.2-cp310-cp310-manylinux_2_17_x86_64.manylinux2014_x86_64.whl.metadata (18 kB)\n",
      "Collecting numpy<2,>=1.22.4 (from pandas)\n",
      "  Obtaining dependency information for numpy<2,>=1.22.4 from https://files.pythonhosted.org/packages/2d/5e/cb38e3d1916cc29880c84a9332a9122a8f49a7b57ec7aea63e0f678587a2/numpy-1.26.1-cp310-cp310-manylinux_2_17_x86_64.manylinux2014_x86_64.whl.metadata\n",
      "  Using cached numpy-1.26.1-cp310-cp310-manylinux_2_17_x86_64.manylinux2014_x86_64.whl.metadata (61 kB)\n",
      "Requirement already satisfied: python-dateutil>=2.8.2 in ./venv/lib/python3.10/site-packages (from pandas) (2.8.2)\n",
      "Collecting pytz>=2020.1 (from pandas)\n",
      "  Obtaining dependency information for pytz>=2020.1 from https://files.pythonhosted.org/packages/32/4d/aaf7eff5deb402fd9a24a1449a8119f00d74ae9c2efa79f8ef9994261fc2/pytz-2023.3.post1-py2.py3-none-any.whl.metadata\n",
      "  Using cached pytz-2023.3.post1-py2.py3-none-any.whl.metadata (22 kB)\n",
      "Collecting tzdata>=2022.1 (from pandas)\n",
      "  Using cached tzdata-2023.3-py2.py3-none-any.whl (341 kB)\n",
      "Requirement already satisfied: six>=1.5 in ./venv/lib/python3.10/site-packages (from python-dateutil>=2.8.2->pandas) (1.16.0)\n",
      "Using cached pandas-2.1.2-cp310-cp310-manylinux_2_17_x86_64.manylinux2014_x86_64.whl (12.3 MB)\n",
      "Using cached numpy-1.26.1-cp310-cp310-manylinux_2_17_x86_64.manylinux2014_x86_64.whl (18.2 MB)\n",
      "Using cached pytz-2023.3.post1-py2.py3-none-any.whl (502 kB)\n",
      "Installing collected packages: pytz, tzdata, numpy, pandas\n",
      "Successfully installed numpy-1.26.1 pandas-2.1.2 pytz-2023.3.post1 tzdata-2023.3\n",
      "\n",
      "\u001b[1m[\u001b[0m\u001b[34;49mnotice\u001b[0m\u001b[1;39;49m]\u001b[0m\u001b[39;49m A new release of pip is available: \u001b[0m\u001b[31;49m23.2.1\u001b[0m\u001b[39;49m -> \u001b[0m\u001b[32;49m23.3.1\u001b[0m\n",
      "\u001b[1m[\u001b[0m\u001b[34;49mnotice\u001b[0m\u001b[1;39;49m]\u001b[0m\u001b[39;49m To update, run: \u001b[0m\u001b[32;49mpip install --upgrade pip\u001b[0m\n",
      "Collecting matplotlib\n",
      "  Obtaining dependency information for matplotlib from https://files.pythonhosted.org/packages/49/74/544b327ca211fe2c484aa6fb3264d6cf8ee994594c86ab110cfd9cf0eb2b/matplotlib-3.8.1-cp310-cp310-manylinux_2_17_x86_64.manylinux2014_x86_64.whl.metadata\n",
      "  Using cached matplotlib-3.8.1-cp310-cp310-manylinux_2_17_x86_64.manylinux2014_x86_64.whl.metadata (5.8 kB)\n",
      "Collecting contourpy>=1.0.1 (from matplotlib)\n",
      "  Obtaining dependency information for contourpy>=1.0.1 from https://files.pythonhosted.org/packages/58/56/e2c43dcfa1f9c7db4d5e3d6f5134b24ed953f4e2133a4b12f0062148db58/contourpy-1.2.0-cp310-cp310-manylinux_2_17_x86_64.manylinux2014_x86_64.whl.metadata\n",
      "  Using cached contourpy-1.2.0-cp310-cp310-manylinux_2_17_x86_64.manylinux2014_x86_64.whl.metadata (5.8 kB)\n",
      "Collecting cycler>=0.10 (from matplotlib)\n",
      "  Obtaining dependency information for cycler>=0.10 from https://files.pythonhosted.org/packages/e7/05/c19819d5e3d95294a6f5947fb9b9629efb316b96de511b418c53d245aae6/cycler-0.12.1-py3-none-any.whl.metadata\n",
      "  Using cached cycler-0.12.1-py3-none-any.whl.metadata (3.8 kB)\n",
      "Collecting fonttools>=4.22.0 (from matplotlib)\n",
      "  Obtaining dependency information for fonttools>=4.22.0 from https://files.pythonhosted.org/packages/d7/a2/87f8aba1cac5523d212aefb4fbbdd7a9c24e7cac9ad8f7128f3c41f4762d/fonttools-4.44.0-cp310-cp310-manylinux_2_17_x86_64.manylinux2014_x86_64.whl.metadata\n",
      "  Using cached fonttools-4.44.0-cp310-cp310-manylinux_2_17_x86_64.manylinux2014_x86_64.whl.metadata (153 kB)\n",
      "Collecting kiwisolver>=1.3.1 (from matplotlib)\n",
      "  Obtaining dependency information for kiwisolver>=1.3.1 from https://files.pythonhosted.org/packages/6f/40/4ab1fdb57fced80ce5903f04ae1aed7c1d5939dda4fd0c0aa526c12fe28a/kiwisolver-1.4.5-cp310-cp310-manylinux_2_12_x86_64.manylinux2010_x86_64.whl.metadata\n",
      "  Using cached kiwisolver-1.4.5-cp310-cp310-manylinux_2_12_x86_64.manylinux2010_x86_64.whl.metadata (6.4 kB)\n",
      "Requirement already satisfied: numpy<2,>=1.21 in ./venv/lib/python3.10/site-packages (from matplotlib) (1.26.1)\n",
      "Requirement already satisfied: packaging>=20.0 in ./venv/lib/python3.10/site-packages (from matplotlib) (23.2)\n",
      "Collecting pillow>=8 (from matplotlib)\n",
      "  Obtaining dependency information for pillow>=8 from https://files.pythonhosted.org/packages/e5/b9/5c6ad3241f1ccca4b781dfeddbab2dac4480f95aedc351a0e60c9f4c8aa9/Pillow-10.1.0-cp310-cp310-manylinux_2_28_x86_64.whl.metadata\n",
      "  Using cached Pillow-10.1.0-cp310-cp310-manylinux_2_28_x86_64.whl.metadata (9.5 kB)\n",
      "Collecting pyparsing>=2.3.1 (from matplotlib)\n",
      "  Obtaining dependency information for pyparsing>=2.3.1 from https://files.pythonhosted.org/packages/39/92/8486ede85fcc088f1b3dba4ce92dd29d126fd96b0008ea213167940a2475/pyparsing-3.1.1-py3-none-any.whl.metadata\n",
      "  Using cached pyparsing-3.1.1-py3-none-any.whl.metadata (5.1 kB)\n",
      "Requirement already satisfied: python-dateutil>=2.7 in ./venv/lib/python3.10/site-packages (from matplotlib) (2.8.2)\n",
      "Requirement already satisfied: six>=1.5 in ./venv/lib/python3.10/site-packages (from python-dateutil>=2.7->matplotlib) (1.16.0)\n",
      "Using cached matplotlib-3.8.1-cp310-cp310-manylinux_2_17_x86_64.manylinux2014_x86_64.whl (11.6 MB)\n",
      "Using cached contourpy-1.2.0-cp310-cp310-manylinux_2_17_x86_64.manylinux2014_x86_64.whl (310 kB)\n",
      "Using cached cycler-0.12.1-py3-none-any.whl (8.3 kB)\n",
      "Using cached fonttools-4.44.0-cp310-cp310-manylinux_2_17_x86_64.manylinux2014_x86_64.whl (4.5 MB)\n",
      "Using cached kiwisolver-1.4.5-cp310-cp310-manylinux_2_12_x86_64.manylinux2010_x86_64.whl (1.6 MB)\n",
      "Using cached Pillow-10.1.0-cp310-cp310-manylinux_2_28_x86_64.whl (3.6 MB)\n",
      "Using cached pyparsing-3.1.1-py3-none-any.whl (103 kB)\n",
      "Installing collected packages: pyparsing, pillow, kiwisolver, fonttools, cycler, contourpy, matplotlib\n",
      "Successfully installed contourpy-1.2.0 cycler-0.12.1 fonttools-4.44.0 kiwisolver-1.4.5 matplotlib-3.8.1 pillow-10.1.0 pyparsing-3.1.1\n",
      "\n",
      "\u001b[1m[\u001b[0m\u001b[34;49mnotice\u001b[0m\u001b[1;39;49m]\u001b[0m\u001b[39;49m A new release of pip is available: \u001b[0m\u001b[31;49m23.2.1\u001b[0m\u001b[39;49m -> \u001b[0m\u001b[32;49m23.3.1\u001b[0m\n",
      "\u001b[1m[\u001b[0m\u001b[34;49mnotice\u001b[0m\u001b[1;39;49m]\u001b[0m\u001b[39;49m To update, run: \u001b[0m\u001b[32;49mpip install --upgrade pip\u001b[0m\n",
      "Collecting seaborn\n",
      "  Obtaining dependency information for seaborn from https://files.pythonhosted.org/packages/7b/e5/83fcd7e9db036c179e0352bfcd20f81d728197a16f883e7b90307a88e65e/seaborn-0.13.0-py3-none-any.whl.metadata\n",
      "  Using cached seaborn-0.13.0-py3-none-any.whl.metadata (5.3 kB)\n",
      "Requirement already satisfied: numpy!=1.24.0,>=1.20 in ./venv/lib/python3.10/site-packages (from seaborn) (1.26.1)\n",
      "Requirement already satisfied: pandas>=1.2 in ./venv/lib/python3.10/site-packages (from seaborn) (2.1.2)\n",
      "Requirement already satisfied: matplotlib!=3.6.1,>=3.3 in ./venv/lib/python3.10/site-packages (from seaborn) (3.8.1)\n",
      "Requirement already satisfied: contourpy>=1.0.1 in ./venv/lib/python3.10/site-packages (from matplotlib!=3.6.1,>=3.3->seaborn) (1.2.0)\n",
      "Requirement already satisfied: cycler>=0.10 in ./venv/lib/python3.10/site-packages (from matplotlib!=3.6.1,>=3.3->seaborn) (0.12.1)\n",
      "Requirement already satisfied: fonttools>=4.22.0 in ./venv/lib/python3.10/site-packages (from matplotlib!=3.6.1,>=3.3->seaborn) (4.44.0)\n",
      "Requirement already satisfied: kiwisolver>=1.3.1 in ./venv/lib/python3.10/site-packages (from matplotlib!=3.6.1,>=3.3->seaborn) (1.4.5)\n",
      "Requirement already satisfied: packaging>=20.0 in ./venv/lib/python3.10/site-packages (from matplotlib!=3.6.1,>=3.3->seaborn) (23.2)\n",
      "Requirement already satisfied: pillow>=8 in ./venv/lib/python3.10/site-packages (from matplotlib!=3.6.1,>=3.3->seaborn) (10.1.0)\n",
      "Requirement already satisfied: pyparsing>=2.3.1 in ./venv/lib/python3.10/site-packages (from matplotlib!=3.6.1,>=3.3->seaborn) (3.1.1)\n",
      "Requirement already satisfied: python-dateutil>=2.7 in ./venv/lib/python3.10/site-packages (from matplotlib!=3.6.1,>=3.3->seaborn) (2.8.2)\n",
      "Requirement already satisfied: pytz>=2020.1 in ./venv/lib/python3.10/site-packages (from pandas>=1.2->seaborn) (2023.3.post1)\n",
      "Requirement already satisfied: tzdata>=2022.1 in ./venv/lib/python3.10/site-packages (from pandas>=1.2->seaborn) (2023.3)\n",
      "Requirement already satisfied: six>=1.5 in ./venv/lib/python3.10/site-packages (from python-dateutil>=2.7->matplotlib!=3.6.1,>=3.3->seaborn) (1.16.0)\n",
      "Using cached seaborn-0.13.0-py3-none-any.whl (294 kB)\n",
      "Installing collected packages: seaborn\n",
      "Successfully installed seaborn-0.13.0\n",
      "\n",
      "\u001b[1m[\u001b[0m\u001b[34;49mnotice\u001b[0m\u001b[1;39;49m]\u001b[0m\u001b[39;49m A new release of pip is available: \u001b[0m\u001b[31;49m23.2.1\u001b[0m\u001b[39;49m -> \u001b[0m\u001b[32;49m23.3.1\u001b[0m\n",
      "\u001b[1m[\u001b[0m\u001b[34;49mnotice\u001b[0m\u001b[1;39;49m]\u001b[0m\u001b[39;49m To update, run: \u001b[0m\u001b[32;49mpip install --upgrade pip\u001b[0m\n",
      "Collecting plotly\n",
      "  Obtaining dependency information for plotly from https://files.pythonhosted.org/packages/a8/07/72953cf70e3bd3a24cbc3e743e6f8539abe6e3e6d83c3c0c83426eaffd39/plotly-5.18.0-py3-none-any.whl.metadata\n",
      "  Using cached plotly-5.18.0-py3-none-any.whl.metadata (7.0 kB)\n",
      "Collecting tenacity>=6.2.0 (from plotly)\n",
      "  Obtaining dependency information for tenacity>=6.2.0 from https://files.pythonhosted.org/packages/f4/f1/990741d5bb2487d529d20a433210ffa136a367751e454214013b441c4575/tenacity-8.2.3-py3-none-any.whl.metadata\n",
      "  Using cached tenacity-8.2.3-py3-none-any.whl.metadata (1.0 kB)\n",
      "Requirement already satisfied: packaging in ./venv/lib/python3.10/site-packages (from plotly) (23.2)\n",
      "Using cached plotly-5.18.0-py3-none-any.whl (15.6 MB)\n",
      "Using cached tenacity-8.2.3-py3-none-any.whl (24 kB)\n",
      "Installing collected packages: tenacity, plotly\n",
      "Successfully installed plotly-5.18.0 tenacity-8.2.3\n",
      "\n",
      "\u001b[1m[\u001b[0m\u001b[34;49mnotice\u001b[0m\u001b[1;39;49m]\u001b[0m\u001b[39;49m A new release of pip is available: \u001b[0m\u001b[31;49m23.2.1\u001b[0m\u001b[39;49m -> \u001b[0m\u001b[32;49m23.3.1\u001b[0m\n",
      "\u001b[1m[\u001b[0m\u001b[34;49mnotice\u001b[0m\u001b[1;39;49m]\u001b[0m\u001b[39;49m To update, run: \u001b[0m\u001b[32;49mpip install --upgrade pip\u001b[0m\n",
      "Collecting scipy\n",
      "  Obtaining dependency information for scipy from https://files.pythonhosted.org/packages/18/44/7e8d208eb59a8224fcc474415104f13be9b378be8da63f76dfde12ec2b44/scipy-1.11.3-cp310-cp310-manylinux_2_17_x86_64.manylinux2014_x86_64.whl.metadata\n",
      "  Using cached scipy-1.11.3-cp310-cp310-manylinux_2_17_x86_64.manylinux2014_x86_64.whl.metadata (60 kB)\n",
      "Requirement already satisfied: numpy<1.28.0,>=1.21.6 in ./venv/lib/python3.10/site-packages (from scipy) (1.26.1)\n",
      "Using cached scipy-1.11.3-cp310-cp310-manylinux_2_17_x86_64.manylinux2014_x86_64.whl (36.4 MB)\n",
      "Installing collected packages: scipy\n",
      "Successfully installed scipy-1.11.3\n",
      "\n",
      "\u001b[1m[\u001b[0m\u001b[34;49mnotice\u001b[0m\u001b[1;39;49m]\u001b[0m\u001b[39;49m A new release of pip is available: \u001b[0m\u001b[31;49m23.2.1\u001b[0m\u001b[39;49m -> \u001b[0m\u001b[32;49m23.3.1\u001b[0m\n",
      "\u001b[1m[\u001b[0m\u001b[34;49mnotice\u001b[0m\u001b[1;39;49m]\u001b[0m\u001b[39;49m To update, run: \u001b[0m\u001b[32;49mpip install --upgrade pip\u001b[0m\n",
      "Collecting scikit-learn\n",
      "  Obtaining dependency information for scikit-learn from https://files.pythonhosted.org/packages/d0/0b/26ad95cf0b747be967b15fb71a06f5ac67aba0fd2f9cd174de6edefc4674/scikit_learn-1.3.2-cp310-cp310-manylinux_2_17_x86_64.manylinux2014_x86_64.whl.metadata\n",
      "  Using cached scikit_learn-1.3.2-cp310-cp310-manylinux_2_17_x86_64.manylinux2014_x86_64.whl.metadata (11 kB)\n",
      "Requirement already satisfied: numpy<2.0,>=1.17.3 in ./venv/lib/python3.10/site-packages (from scikit-learn) (1.26.1)\n",
      "Requirement already satisfied: scipy>=1.5.0 in ./venv/lib/python3.10/site-packages (from scikit-learn) (1.11.3)\n",
      "Collecting joblib>=1.1.1 (from scikit-learn)\n",
      "  Obtaining dependency information for joblib>=1.1.1 from https://files.pythonhosted.org/packages/10/40/d551139c85db202f1f384ba8bcf96aca2f329440a844f924c8a0040b6d02/joblib-1.3.2-py3-none-any.whl.metadata\n",
      "  Using cached joblib-1.3.2-py3-none-any.whl.metadata (5.4 kB)\n",
      "Collecting threadpoolctl>=2.0.0 (from scikit-learn)\n",
      "  Obtaining dependency information for threadpoolctl>=2.0.0 from https://files.pythonhosted.org/packages/81/12/fd4dea011af9d69e1cad05c75f3f7202cdcbeac9b712eea58ca779a72865/threadpoolctl-3.2.0-py3-none-any.whl.metadata\n",
      "  Using cached threadpoolctl-3.2.0-py3-none-any.whl.metadata (10.0 kB)\n",
      "Using cached scikit_learn-1.3.2-cp310-cp310-manylinux_2_17_x86_64.manylinux2014_x86_64.whl (10.8 MB)\n",
      "Using cached joblib-1.3.2-py3-none-any.whl (302 kB)\n",
      "Using cached threadpoolctl-3.2.0-py3-none-any.whl (15 kB)\n",
      "Installing collected packages: threadpoolctl, joblib, scikit-learn\n",
      "Successfully installed joblib-1.3.2 scikit-learn-1.3.2 threadpoolctl-3.2.0\n",
      "\n",
      "\u001b[1m[\u001b[0m\u001b[34;49mnotice\u001b[0m\u001b[1;39;49m]\u001b[0m\u001b[39;49m A new release of pip is available: \u001b[0m\u001b[31;49m23.2.1\u001b[0m\u001b[39;49m -> \u001b[0m\u001b[32;49m23.3.1\u001b[0m\n",
      "\u001b[1m[\u001b[0m\u001b[34;49mnotice\u001b[0m\u001b[1;39;49m]\u001b[0m\u001b[39;49m To update, run: \u001b[0m\u001b[32;49mpip install --upgrade pip\u001b[0m\n",
      "Collecting python-dotenv\n",
      "  Using cached python_dotenv-1.0.0-py3-none-any.whl (19 kB)\n",
      "Installing collected packages: python-dotenv\n",
      "Successfully installed python-dotenv-1.0.0\n",
      "\n",
      "\u001b[1m[\u001b[0m\u001b[34;49mnotice\u001b[0m\u001b[1;39;49m]\u001b[0m\u001b[39;49m A new release of pip is available: \u001b[0m\u001b[31;49m23.2.1\u001b[0m\u001b[39;49m -> \u001b[0m\u001b[32;49m23.3.1\u001b[0m\n",
      "\u001b[1m[\u001b[0m\u001b[34;49mnotice\u001b[0m\u001b[1;39;49m]\u001b[0m\u001b[39;49m To update, run: \u001b[0m\u001b[32;49mpip install --upgrade pip\u001b[0m\n",
      "Collecting openai==0.28.1\n",
      "  Obtaining dependency information for openai==0.28.1 from https://files.pythonhosted.org/packages/1e/9f/385c25502f437686e4aa715969e5eaf5c2cb5e5ffa7c5cdd52f3c6ae967a/openai-0.28.1-py3-none-any.whl.metadata\n",
      "  Using cached openai-0.28.1-py3-none-any.whl.metadata (11 kB)\n",
      "Requirement already satisfied: requests>=2.20 in ./venv/lib/python3.10/site-packages (from openai==0.28.1) (2.31.0)\n",
      "Collecting tqdm (from openai==0.28.1)\n",
      "  Obtaining dependency information for tqdm from https://files.pythonhosted.org/packages/00/e5/f12a80907d0884e6dff9c16d0c0114d81b8cd07dc3ae54c5e962cc83037e/tqdm-4.66.1-py3-none-any.whl.metadata\n",
      "  Using cached tqdm-4.66.1-py3-none-any.whl.metadata (57 kB)\n",
      "Collecting aiohttp (from openai==0.28.1)\n",
      "  Obtaining dependency information for aiohttp from https://files.pythonhosted.org/packages/41/8e/4c48881316bbced3d13089c4d0df4be321ce79a0c695d82dee9996aaf56b/aiohttp-3.8.6-cp310-cp310-manylinux_2_17_x86_64.manylinux2014_x86_64.whl.metadata\n",
      "  Using cached aiohttp-3.8.6-cp310-cp310-manylinux_2_17_x86_64.manylinux2014_x86_64.whl.metadata (7.7 kB)\n",
      "Requirement already satisfied: charset-normalizer<4,>=2 in ./venv/lib/python3.10/site-packages (from requests>=2.20->openai==0.28.1) (3.3.2)\n",
      "Requirement already satisfied: idna<4,>=2.5 in ./venv/lib/python3.10/site-packages (from requests>=2.20->openai==0.28.1) (3.4)\n",
      "Requirement already satisfied: urllib3<3,>=1.21.1 in ./venv/lib/python3.10/site-packages (from requests>=2.20->openai==0.28.1) (2.0.7)\n",
      "Requirement already satisfied: certifi>=2017.4.17 in ./venv/lib/python3.10/site-packages (from requests>=2.20->openai==0.28.1) (2023.7.22)\n",
      "Requirement already satisfied: attrs>=17.3.0 in ./venv/lib/python3.10/site-packages (from aiohttp->openai==0.28.1) (23.1.0)\n",
      "Collecting multidict<7.0,>=4.5 (from aiohttp->openai==0.28.1)\n",
      "  Using cached multidict-6.0.4-cp310-cp310-manylinux_2_17_x86_64.manylinux2014_x86_64.whl (114 kB)\n",
      "Collecting async-timeout<5.0,>=4.0.0a3 (from aiohttp->openai==0.28.1)\n",
      "  Obtaining dependency information for async-timeout<5.0,>=4.0.0a3 from https://files.pythonhosted.org/packages/a7/fa/e01228c2938de91d47b307831c62ab9e4001e747789d0b05baf779a6488c/async_timeout-4.0.3-py3-none-any.whl.metadata\n",
      "  Using cached async_timeout-4.0.3-py3-none-any.whl.metadata (4.2 kB)\n",
      "Collecting yarl<2.0,>=1.0 (from aiohttp->openai==0.28.1)\n",
      "  Using cached yarl-1.9.2-cp310-cp310-manylinux_2_17_x86_64.manylinux2014_x86_64.whl (268 kB)\n",
      "Collecting frozenlist>=1.1.1 (from aiohttp->openai==0.28.1)\n",
      "  Obtaining dependency information for frozenlist>=1.1.1 from https://files.pythonhosted.org/packages/1e/28/74b8b6451c89c070d34e753d8b65a1e4ce508a6808b18529f36e8c0e2184/frozenlist-1.4.0-cp310-cp310-manylinux_2_5_x86_64.manylinux1_x86_64.manylinux_2_17_x86_64.manylinux2014_x86_64.whl.metadata\n",
      "  Using cached frozenlist-1.4.0-cp310-cp310-manylinux_2_5_x86_64.manylinux1_x86_64.manylinux_2_17_x86_64.manylinux2014_x86_64.whl.metadata (5.2 kB)\n",
      "Collecting aiosignal>=1.1.2 (from aiohttp->openai==0.28.1)\n",
      "  Using cached aiosignal-1.3.1-py3-none-any.whl (7.6 kB)\n",
      "Using cached openai-0.28.1-py3-none-any.whl (76 kB)\n",
      "Using cached aiohttp-3.8.6-cp310-cp310-manylinux_2_17_x86_64.manylinux2014_x86_64.whl (1.0 MB)\n",
      "Using cached tqdm-4.66.1-py3-none-any.whl (78 kB)\n",
      "Using cached async_timeout-4.0.3-py3-none-any.whl (5.7 kB)\n",
      "Using cached frozenlist-1.4.0-cp310-cp310-manylinux_2_5_x86_64.manylinux1_x86_64.manylinux_2_17_x86_64.manylinux2014_x86_64.whl (225 kB)\n",
      "Installing collected packages: tqdm, multidict, frozenlist, async-timeout, yarl, aiosignal, aiohttp, openai\n",
      "Successfully installed aiohttp-3.8.6 aiosignal-1.3.1 async-timeout-4.0.3 frozenlist-1.4.0 multidict-6.0.4 openai-0.28.1 tqdm-4.66.1 yarl-1.9.2\n",
      "\n",
      "\u001b[1m[\u001b[0m\u001b[34;49mnotice\u001b[0m\u001b[1;39;49m]\u001b[0m\u001b[39;49m A new release of pip is available: \u001b[0m\u001b[31;49m23.2.1\u001b[0m\u001b[39;49m -> \u001b[0m\u001b[32;49m23.3.1\u001b[0m\n",
      "\u001b[1m[\u001b[0m\u001b[34;49mnotice\u001b[0m\u001b[1;39;49m]\u001b[0m\u001b[39;49m To update, run: \u001b[0m\u001b[32;49mpip install --upgrade pip\u001b[0m\n",
      "Collecting tiktoken\n",
      "  Obtaining dependency information for tiktoken from https://files.pythonhosted.org/packages/f4/2e/0adf6e264b996e263b1c57cad6560ffd5492a69beb9fd779ed0463d486bc/tiktoken-0.5.1-cp310-cp310-manylinux_2_17_x86_64.manylinux2014_x86_64.whl.metadata\n",
      "  Using cached tiktoken-0.5.1-cp310-cp310-manylinux_2_17_x86_64.manylinux2014_x86_64.whl.metadata (6.6 kB)\n",
      "Collecting regex>=2022.1.18 (from tiktoken)\n",
      "  Obtaining dependency information for regex>=2022.1.18 from https://files.pythonhosted.org/packages/8f/3e/4b8b40eb3c80aeaf360f0361d956d129bb3d23b2a3ecbe3a04a8f3bdd6d3/regex-2023.10.3-cp310-cp310-manylinux_2_17_x86_64.manylinux2014_x86_64.whl.metadata\n",
      "  Using cached regex-2023.10.3-cp310-cp310-manylinux_2_17_x86_64.manylinux2014_x86_64.whl.metadata (40 kB)\n",
      "Requirement already satisfied: requests>=2.26.0 in ./venv/lib/python3.10/site-packages (from tiktoken) (2.31.0)\n",
      "Requirement already satisfied: charset-normalizer<4,>=2 in ./venv/lib/python3.10/site-packages (from requests>=2.26.0->tiktoken) (3.3.2)\n",
      "Requirement already satisfied: idna<4,>=2.5 in ./venv/lib/python3.10/site-packages (from requests>=2.26.0->tiktoken) (3.4)\n",
      "Requirement already satisfied: urllib3<3,>=1.21.1 in ./venv/lib/python3.10/site-packages (from requests>=2.26.0->tiktoken) (2.0.7)\n",
      "Requirement already satisfied: certifi>=2017.4.17 in ./venv/lib/python3.10/site-packages (from requests>=2.26.0->tiktoken) (2023.7.22)\n",
      "Using cached tiktoken-0.5.1-cp310-cp310-manylinux_2_17_x86_64.manylinux2014_x86_64.whl (2.0 MB)\n",
      "Using cached regex-2023.10.3-cp310-cp310-manylinux_2_17_x86_64.manylinux2014_x86_64.whl (773 kB)\n",
      "Installing collected packages: regex, tiktoken\n",
      "Successfully installed regex-2023.10.3 tiktoken-0.5.1\n",
      "\n",
      "\u001b[1m[\u001b[0m\u001b[34;49mnotice\u001b[0m\u001b[1;39;49m]\u001b[0m\u001b[39;49m A new release of pip is available: \u001b[0m\u001b[31;49m23.2.1\u001b[0m\u001b[39;49m -> \u001b[0m\u001b[32;49m23.3.1\u001b[0m\n",
      "\u001b[1m[\u001b[0m\u001b[34;49mnotice\u001b[0m\u001b[1;39;49m]\u001b[0m\u001b[39;49m To update, run: \u001b[0m\u001b[32;49mpip install --upgrade pip\u001b[0m\n"
     ]
    }
   ],
   "source": [
    "!pip install pandas\n",
    "!pip install matplotlib\n",
    "!pip install seaborn\n",
    "!pip install plotly\n",
    "!pip install scipy\n",
    "!pip install scikit-learn\n",
    "!pip install python-dotenv\n",
    "!pip install openai==0.28.1\n",
    "!pip install tiktoken"
   ]
  },
  {
   "cell_type": "code",
   "execution_count": 2,
   "id": "2bcc1041-49b1-4eb4-959b-d5da288ba91d",
   "metadata": {},
   "outputs": [],
   "source": [
    "import os\n",
    "from dotenv import load_dotenv\n",
    "import openai\n",
    "import pandas as pd\n",
    "import tiktoken"
   ]
  },
  {
   "cell_type": "markdown",
   "id": "d8c80414-5360-49cc-b141-c808d4786813",
   "metadata": {
    "jp-MarkdownHeadingCollapsed": true
   },
   "source": [
    "# Embedding models"
   ]
  },
  {
   "attachments": {
    "d32a0adc-6739-473e-a27f-9a92aba4d556.png": {
     "image/png": "[encoded data removed]"
    }
   },
   "cell_type": "markdown",
   "id": "719e0213-749f-4153-a467-fd024c3d71a1",
   "metadata": {},
   "source": [
    "![image.png](attachment:d32a0adc-6739-473e-a27f-9a92aba4d556.png)"
   ]
  },
  {
   "cell_type": "markdown",
   "id": "c4666a04-8a32-4055-9122-a593d454dbcb",
   "metadata": {},
   "source": [
    "- We are using **text-embedding-ada-002** as embedding model. \n",
    "- It outputs **1536 dimensions** vectors.\n",
    "- It can take a maximun of **8191 tokens**.\n",
    "- Tokens are obtained with **cl100k_base** tokenizer."
   ]
  },
  {
   "cell_type": "markdown",
   "id": "598c5f58-c275-4cfc-a021-3bc11aead32b",
   "metadata": {
    "jp-MarkdownHeadingCollapsed": true
   },
   "source": [
    "# Get OpenAI API key"
   ]
  },
  {
   "cell_type": "markdown",
   "id": "6aa815e3-34b6-430e-9c8d-375bef178c01",
   "metadata": {},
   "source": [
    "In order of using the **text-embedding-ada-002** embedding model from OpenAI we need an API key which can be got in the [OpenAI website](https://openai.com/). I have writen mine in the **.env** file to load it as an environment variable."
   ]
  },
  {
   "cell_type": "code",
   "execution_count": 3,
   "id": "64c7e8e4-20d8-46c3-baae-2ef0cfc4bd36",
   "metadata": {},
   "outputs": [],
   "source": [
    "load_dotenv()\n",
    "\n",
    "openai.api_key = os.getenv('OPENAI_API_KEY')\n",
    "# print(os.getenv('OPENAI_API_KEY'))"
   ]
  },
  {
   "cell_type": "markdown",
   "id": "7428ac96-e7c7-4992-8fbb-a5eb1ba7f35b",
   "metadata": {
    "jp-MarkdownHeadingCollapsed": true
   },
   "source": [
    "# Compute an embedding"
   ]
  },
  {
   "cell_type": "code",
   "execution_count": 4,
   "id": "85143e64-6268-411d-9996-97547e59115e",
   "metadata": {},
   "outputs": [],
   "source": [
    "def get_embedding(text: str, model: str=\"text-embedding-ada-002\") -> list:\n",
    "   text = text.replace(\"\\n\", \" \")\n",
    "   return openai.Embedding.create(input = [text], model=model)['data'][0]['embedding']"
   ]
  },
  {
   "cell_type": "code",
   "execution_count": 5,
   "id": "87360535-2799-4c0b-8185-073597e89b5e",
   "metadata": {
    "scrolled": true
   },
   "outputs": [
    {
     "name": "stdout",
     "output_type": "stream",
     "text": [
      "Dimensions: 1536\n"
     ]
    },
    {
     "data": {
      "text/plain": [
       "[0.007463276386260986,\n",
       " -0.012937982566654682,\n",
       " 0.011391316540539265,\n",
       " 0.007702641189098358,\n",
       " -0.0060056052170693874,\n",
       " 0.015847187489271164,\n",
       " -0.036751724779605865,\n",
       " -0.01940697245299816,\n",
       " 0.009396608918905258,\n",
       " -0.025998715311288834]"
      ]
     },
     "execution_count": 5,
     "metadata": {},
     "output_type": "execute_result"
    }
   ],
   "source": [
    "embedding = get_embedding('Life is like riding a bicycle. To keep your balance, you must keep moving')\n",
    "\n",
    "print(f\"Dimensions: {len(embedding)}\")\n",
    "embedding[:10]"
   ]
  },
  {
   "cell_type": "markdown",
   "id": "e150c913-3244-46e8-8aeb-204de2a0ca90",
   "metadata": {
    "jp-MarkdownHeadingCollapsed": true
   },
   "source": [
    "# Load and prepare data"
   ]
  },
  {
   "cell_type": "markdown",
   "id": "f1c02320-b2e3-477a-8660-ffa014708dd7",
   "metadata": {},
   "source": [
    "There are 80 sentences about different topics generated with ChatGPT in he **data** directory.\n",
    "\n",
    "- 20 sentences about **food** (food.csv)\n",
    "- 20 sentences about **animals** (animal.csv)\n",
    "- 20 sentences about **finance** (finance.csv)\n",
    "- 20 sentences about **sports** (sport.csv)\n",
    "\n",
    "They were concatenated into a 80 rows DataFrame saved as csv in **data_80.csv** using the function **concat_data**."
   ]
  },
  {
   "cell_type": "code",
   "execution_count": 17,
   "id": "725ab041-ad79-43d8-a63a-1fc1c6197215",
   "metadata": {},
   "outputs": [],
   "source": [
    "def concat_data(dir_path: str='./data') -> pd.DataFrame:\n",
    "    \"\"\"Load CSV files from dir_path and concatenate them into a df.\n",
    "\n",
    "    Args:\n",
    "        dir_path (str): Path to data.\n",
    "\n",
    "    Returns\n",
    "        pd.Dataframe: Concatenated DataFrame.\n",
    "    \"\"\"\n",
    "    df = pd.DataFrame()\n",
    "    for file_path in os.listdir(dir_path):\n",
    "        path = os.path.join(dir_path, file_path)\n",
    "        if os.path.isfile(path) and 'csv' in file_path:\n",
    "            topic_df = pd.read_csv(path, sep=',')\n",
    "            df = pd.concat([df, topic_df], ignore_index=True)\n",
    "    return df\n",
    "\n",
    "data_80_path = './concatenated_data/data_80.csv'\n",
    "concat_data().to_csv(data_80_path, index=None)"
   ]
  },
  {
   "cell_type": "code",
   "execution_count": 27,
   "id": "90eaffdd-c5d2-4cf8-9bc3-07b42c34c5e7",
   "metadata": {},
   "outputs": [
    {
     "name": "stdout",
     "output_type": "stream",
     "text": [
      "<class 'pandas.core.frame.DataFrame'>\n",
      "RangeIndex: 80 entries, 0 to 79\n",
      "Data columns (total 2 columns):\n",
      " #   Column    Non-Null Count  Dtype \n",
      "---  ------    --------------  ----- \n",
      " 0   sentence  80 non-null     object\n",
      " 1   label     80 non-null     object\n",
      "dtypes: object(2)\n",
      "memory usage: 1.4+ KB\n"
     ]
    }
   ],
   "source": [
    "data_80 = pd.read_csv(data_80_path)\n",
    "data_80.info()"
   ]
  },
  {
   "cell_type": "code",
   "execution_count": 28,
   "id": "78fdffe6-07a7-4ce0-afb9-9b8f46cb65dc",
   "metadata": {},
   "outputs": [
    {
     "data": {
      "text/html": [
       "<div>\n",
       "<style scoped>\n",
       "    .dataframe tbody tr th:only-of-type {\n",
       "        vertical-align: middle;\n",
       "    }\n",
       "\n",
       "    .dataframe tbody tr th {\n",
       "        vertical-align: top;\n",
       "    }\n",
       "\n",
       "    .dataframe thead th {\n",
       "        text-align: right;\n",
       "    }\n",
       "</style>\n",
       "<table border=\"1\" class=\"dataframe\">\n",
       "  <thead>\n",
       "    <tr style=\"text-align: right;\">\n",
       "      <th></th>\n",
       "      <th>count</th>\n",
       "    </tr>\n",
       "    <tr>\n",
       "      <th>label</th>\n",
       "      <th></th>\n",
       "    </tr>\n",
       "  </thead>\n",
       "  <tbody>\n",
       "    <tr>\n",
       "      <th>finance</th>\n",
       "      <td>20</td>\n",
       "    </tr>\n",
       "    <tr>\n",
       "      <th>animal</th>\n",
       "      <td>20</td>\n",
       "    </tr>\n",
       "    <tr>\n",
       "      <th>sport</th>\n",
       "      <td>20</td>\n",
       "    </tr>\n",
       "    <tr>\n",
       "      <th>food</th>\n",
       "      <td>20</td>\n",
       "    </tr>\n",
       "  </tbody>\n",
       "</table>\n",
       "</div>"
      ],
      "text/plain": [
       "         count\n",
       "label         \n",
       "finance     20\n",
       "animal      20\n",
       "sport       20\n",
       "food        20"
      ]
     },
     "execution_count": 28,
     "metadata": {},
     "output_type": "execute_result"
    }
   ],
   "source": [
    "pd.DataFrame(data_80.label.value_counts())"
   ]
  },
  {
   "cell_type": "code",
   "execution_count": 29,
   "id": "a01e613a-62fe-48a2-9171-93181c4c934e",
   "metadata": {},
   "outputs": [
    {
     "data": {
      "text/html": [
       "<div>\n",
       "<style scoped>\n",
       "    .dataframe tbody tr th:only-of-type {\n",
       "        vertical-align: middle;\n",
       "    }\n",
       "\n",
       "    .dataframe tbody tr th {\n",
       "        vertical-align: top;\n",
       "    }\n",
       "\n",
       "    .dataframe thead th {\n",
       "        text-align: right;\n",
       "    }\n",
       "</style>\n",
       "<table border=\"1\" class=\"dataframe\">\n",
       "  <thead>\n",
       "    <tr style=\"text-align: right;\">\n",
       "      <th></th>\n",
       "      <th>sentence</th>\n",
       "      <th>label</th>\n",
       "    </tr>\n",
       "  </thead>\n",
       "  <tbody>\n",
       "    <tr>\n",
       "      <th>0</th>\n",
       "      <td>Budgeting is the key to managing your finances...</td>\n",
       "      <td>finance</td>\n",
       "    </tr>\n",
       "    <tr>\n",
       "      <th>1</th>\n",
       "      <td>Investing wisely can help your finances grow o...</td>\n",
       "      <td>finance</td>\n",
       "    </tr>\n",
       "  </tbody>\n",
       "</table>\n",
       "</div>"
      ],
      "text/plain": [
       "                                            sentence    label\n",
       "0  Budgeting is the key to managing your finances...  finance\n",
       "1  Investing wisely can help your finances grow o...  finance"
      ]
     },
     "execution_count": 29,
     "metadata": {},
     "output_type": "execute_result"
    }
   ],
   "source": [
    "data_80.head(2)"
   ]
  },
  {
   "cell_type": "code",
   "execution_count": 30,
   "id": "33aadfe1-b5e1-4cee-8768-b942d106ec48",
   "metadata": {},
   "outputs": [
    {
     "data": {
      "text/html": [
       "<div>\n",
       "<style scoped>\n",
       "    .dataframe tbody tr th:only-of-type {\n",
       "        vertical-align: middle;\n",
       "    }\n",
       "\n",
       "    .dataframe tbody tr th {\n",
       "        vertical-align: top;\n",
       "    }\n",
       "\n",
       "    .dataframe thead th {\n",
       "        text-align: right;\n",
       "    }\n",
       "</style>\n",
       "<table border=\"1\" class=\"dataframe\">\n",
       "  <thead>\n",
       "    <tr style=\"text-align: right;\">\n",
       "      <th></th>\n",
       "      <th>sentence</th>\n",
       "      <th>label</th>\n",
       "    </tr>\n",
       "  </thead>\n",
       "  <tbody>\n",
       "    <tr>\n",
       "      <th>78</th>\n",
       "      <td>A cheese platter with wine is a great way to u...</td>\n",
       "      <td>food</td>\n",
       "    </tr>\n",
       "    <tr>\n",
       "      <th>79</th>\n",
       "      <td>Freshly caught seafood is a specialty of this ...</td>\n",
       "      <td>food</td>\n",
       "    </tr>\n",
       "  </tbody>\n",
       "</table>\n",
       "</div>"
      ],
      "text/plain": [
       "                                             sentence label\n",
       "78  A cheese platter with wine is a great way to u...  food\n",
       "79  Freshly caught seafood is a specialty of this ...  food"
      ]
     },
     "execution_count": 30,
     "metadata": {},
     "output_type": "execute_result"
    }
   ],
   "source": [
    "data_80.tail(2)"
   ]
  },
  {
   "cell_type": "markdown",
   "id": "5076e67f-e867-4f39-9173-0d6b57e44f76",
   "metadata": {
    "jp-MarkdownHeadingCollapsed": true
   },
   "source": [
    "# Check tokenized sentences length"
   ]
  },
  {
   "cell_type": "markdown",
   "id": "fdfba63e-3cb9-4a20-861e-f84b8bb77e1f",
   "metadata": {},
   "source": [
    "Check length and limit it\n",
    "https://cookbook.openai.com/examples/get_embeddings_from_dataset"
   ]
  },
  {
   "cell_type": "markdown",
   "id": "5d52fd71-0f31-41b3-b828-665e16b72925",
   "metadata": {},
   "source": [
    "The embedding model only can input a maximun of 8191 tokens every time it receives an input so we should check the length of our sentences before embedding tthem. To check sentences length first we need to tokenize them because the model takes tokens as input. \n",
    "\n",
    "We are using the **tiktoken** tokenizer and the **cl100k_base** encoding as recommended in the OpenAI documentation."
   ]
  },
  {
   "cell_type": "code",
   "execution_count": 31,
   "id": "a17b079c-0b73-4ce6-99a5-f0963d07db20",
   "metadata": {},
   "outputs": [],
   "source": [
    "def tokenize_string(string: str, encoding_name: str=\"cl100k_base\") -> list[int]:\n",
    "    \"\"\"Returns tokens in a text string.\"\"\"\n",
    "    encoding = tiktoken.get_encoding(encoding_name)\n",
    "    return encoding.encode(string)"
   ]
  },
  {
   "cell_type": "code",
   "execution_count": 32,
   "id": "3ab38a9f-11a9-499a-801b-044da90c136f",
   "metadata": {},
   "outputs": [
    {
     "data": {
      "text/html": [
       "<div>\n",
       "<style scoped>\n",
       "    .dataframe tbody tr th:only-of-type {\n",
       "        vertical-align: middle;\n",
       "    }\n",
       "\n",
       "    .dataframe tbody tr th {\n",
       "        vertical-align: top;\n",
       "    }\n",
       "\n",
       "    .dataframe thead th {\n",
       "        text-align: right;\n",
       "    }\n",
       "</style>\n",
       "<table border=\"1\" class=\"dataframe\">\n",
       "  <thead>\n",
       "    <tr style=\"text-align: right;\">\n",
       "      <th></th>\n",
       "      <th>sentence</th>\n",
       "      <th>label</th>\n",
       "      <th>tokens</th>\n",
       "    </tr>\n",
       "  </thead>\n",
       "  <tbody>\n",
       "    <tr>\n",
       "      <th>0</th>\n",
       "      <td>Budgeting is the key to managing your finances...</td>\n",
       "      <td>finance</td>\n",
       "      <td>[64001, 287, 374, 279, 1401, 311, 18646, 701, ...</td>\n",
       "    </tr>\n",
       "    <tr>\n",
       "      <th>1</th>\n",
       "      <td>Investing wisely can help your finances grow o...</td>\n",
       "      <td>finance</td>\n",
       "      <td>[34976, 287, 66713, 649, 1520, 701, 40382, 313...</td>\n",
       "    </tr>\n",
       "    <tr>\n",
       "      <th>2</th>\n",
       "      <td>Saving for retirement is a crucial part of fin...</td>\n",
       "      <td>finance</td>\n",
       "      <td>[44635, 369, 21624, 374, 264, 16996, 961, 315,...</td>\n",
       "    </tr>\n",
       "  </tbody>\n",
       "</table>\n",
       "</div>"
      ],
      "text/plain": [
       "                                            sentence    label  \\\n",
       "0  Budgeting is the key to managing your finances...  finance   \n",
       "1  Investing wisely can help your finances grow o...  finance   \n",
       "2  Saving for retirement is a crucial part of fin...  finance   \n",
       "\n",
       "                                              tokens  \n",
       "0  [64001, 287, 374, 279, 1401, 311, 18646, 701, ...  \n",
       "1  [34976, 287, 66713, 649, 1520, 701, 40382, 313...  \n",
       "2  [44635, 369, 21624, 374, 264, 16996, 961, 315,...  "
      ]
     },
     "execution_count": 32,
     "metadata": {},
     "output_type": "execute_result"
    }
   ],
   "source": [
    "# Get token and save in tokens column\n",
    "data_80['tokens'] = data_80.sentence.apply(lambda x: tokenize_string(x))\n",
    "data_80.head(3)"
   ]
  },
  {
   "cell_type": "markdown",
   "id": "ac9e7803-b7a6-46f3-9821-35f3e2554e17",
   "metadata": {},
   "source": [
    "Now we can compute the tokens length to know if any of them is longer then 8191 tokens."
   ]
  },
  {
   "cell_type": "code",
   "execution_count": 33,
   "id": "462d8f53-748a-47e4-ae68-4ed28cf1196a",
   "metadata": {},
   "outputs": [
    {
     "name": "stdout",
     "output_type": "stream",
     "text": [
      "Sentences longer than 8191 tokens: 0\n",
      "Mean length: 11.7875\n"
     ]
    }
   ],
   "source": [
    "print(f\"Sentences longer than 8191 tokens: {(data_80.tokens.str.len() >= 8191).sum()}\") # There is no sentence longer than 8191 tokens\n",
    "print(f\"Mean length: {data_80.tokens.str.len().mean()}\")"
   ]
  },
  {
   "cell_type": "markdown",
   "id": "c1174a9d-5bc5-471d-aaa0-cf1945f78fee",
   "metadata": {
    "jp-MarkdownHeadingCollapsed": true
   },
   "source": [
    "# Get embedding vectors"
   ]
  },
  {
   "cell_type": "markdown",
   "id": "207b4e00-c4bc-4352-876a-a980bff9383c",
   "metadata": {},
   "source": [
    "We will use the get_embedding function provided for OpenAI to get the embeddings.\n",
    "\n",
    "https://github.com/openai/openai-python/blob/main/openai/embeddings_utils.py"
   ]
  },
  {
   "cell_type": "code",
   "execution_count": 34,
   "id": "b740728c-cf22-4147-8880-5d2203a0ffcc",
   "metadata": {},
   "outputs": [],
   "source": [
    "from openai.embeddings_utils import get_embedding"
   ]
  },
  {
   "cell_type": "code",
   "execution_count": 35,
   "id": "5bc1a551-4cdb-44bf-92fe-e3e4519f7e76",
   "metadata": {},
   "outputs": [],
   "source": [
    "# embedding model parameters\n",
    "embedding_model = \"text-embedding-ada-002\"\n",
    "embedding_encoding = \"cl100k_base\"  # encoding for text-embedding-ada-002\n",
    "max_tokens = 8000  # maximum for text-embedding-ada-002 is 8191"
   ]
  },
  {
   "cell_type": "code",
   "execution_count": 36,
   "id": "97ace008-09a9-4281-ba65-278b53249b57",
   "metadata": {},
   "outputs": [
    {
     "name": "stdout",
     "output_type": "stream",
     "text": [
      "<class 'pandas.core.frame.DataFrame'>\n",
      "RangeIndex: 80 entries, 0 to 79\n",
      "Data columns (total 4 columns):\n",
      " #   Column     Non-Null Count  Dtype \n",
      "---  ------     --------------  ----- \n",
      " 0   sentence   80 non-null     object\n",
      " 1   label      80 non-null     object\n",
      " 2   tokens     80 non-null     object\n",
      " 3   embedding  80 non-null     object\n",
      "dtypes: object(4)\n",
      "memory usage: 2.6+ KB\n"
     ]
    }
   ],
   "source": [
    "data_80[\"embedding\"] = data_80.sentence.apply(lambda x: get_embedding(x, engine=embedding_model))\n",
    "data_80.info()"
   ]
  },
  {
   "cell_type": "code",
   "execution_count": 37,
   "id": "20b4f8cc-6cdd-4975-9c25-751e41879720",
   "metadata": {},
   "outputs": [
    {
     "data": {
      "text/plain": [
       "sentence     0\n",
       "label        0\n",
       "tokens       0\n",
       "embedding    0\n",
       "dtype: int64"
      ]
     },
     "execution_count": 37,
     "metadata": {},
     "output_type": "execute_result"
    }
   ],
   "source": [
    "data_80.isna().sum()"
   ]
  },
  {
   "cell_type": "code",
   "execution_count": 244,
   "id": "c0309e66-0741-48ec-9388-7e277c50556b",
   "metadata": {},
   "outputs": [],
   "source": [
    "# Uncomment to save!\n",
    "# data_80.to_csv('./concatenated_data/data_80_embeddings.csv', index=None)"
   ]
  },
  {
   "cell_type": "markdown",
   "id": "73ea6482-39de-4537-b16f-c5edcb9f945e",
   "metadata": {},
   "source": [
    "# PCA"
   ]
  },
  {
   "cell_type": "markdown",
   "id": "075f3d7c-df62-445d-b415-9caa4747be3e",
   "metadata": {
    "jp-MarkdownHeadingCollapsed": true
   },
   "source": [
    "## Reshape embeddings"
   ]
  },
  {
   "cell_type": "code",
   "execution_count": 38,
   "id": "8afaf809-b829-4002-9ee9-9af69ada3108",
   "metadata": {},
   "outputs": [],
   "source": [
    "import numpy as np\n",
    "import ast"
   ]
  },
  {
   "cell_type": "code",
   "execution_count": 39,
   "id": "a8bf3ec5-6381-4279-a4bd-f52105c25570",
   "metadata": {},
   "outputs": [
    {
     "name": "stdout",
     "output_type": "stream",
     "text": [
      "<class 'pandas.core.frame.DataFrame'>\n",
      "RangeIndex: 80 entries, 0 to 79\n",
      "Data columns (total 4 columns):\n",
      " #   Column     Non-Null Count  Dtype \n",
      "---  ------     --------------  ----- \n",
      " 0   sentence   80 non-null     object\n",
      " 1   label      80 non-null     object\n",
      " 2   tokens     80 non-null     object\n",
      " 3   embedding  80 non-null     object\n",
      "dtypes: object(4)\n",
      "memory usage: 2.6+ KB\n"
     ]
    }
   ],
   "source": [
    "df = pd.read_csv('./concatenated_data/data_80_embeddings.csv')\n",
    "df.info()"
   ]
  },
  {
   "cell_type": "code",
   "execution_count": 40,
   "id": "e5a16c5d-4cdf-41e1-ab2b-700fce9cd764",
   "metadata": {},
   "outputs": [
    {
     "data": {
      "text/html": [
       "<div>\n",
       "<style scoped>\n",
       "    .dataframe tbody tr th:only-of-type {\n",
       "        vertical-align: middle;\n",
       "    }\n",
       "\n",
       "    .dataframe tbody tr th {\n",
       "        vertical-align: top;\n",
       "    }\n",
       "\n",
       "    .dataframe thead th {\n",
       "        text-align: right;\n",
       "    }\n",
       "</style>\n",
       "<table border=\"1\" class=\"dataframe\">\n",
       "  <thead>\n",
       "    <tr style=\"text-align: right;\">\n",
       "      <th></th>\n",
       "      <th>sentence</th>\n",
       "      <th>label</th>\n",
       "      <th>tokens</th>\n",
       "      <th>embedding</th>\n",
       "    </tr>\n",
       "  </thead>\n",
       "  <tbody>\n",
       "    <tr>\n",
       "      <th>0</th>\n",
       "      <td>Budgeting is the key to managing your finances...</td>\n",
       "      <td>finance</td>\n",
       "      <td>[64001, 287, 374, 279, 1401, 311, 18646, 701, ...</td>\n",
       "      <td>[-0.0009399246773682535, -0.004582423716783523...</td>\n",
       "    </tr>\n",
       "    <tr>\n",
       "      <th>1</th>\n",
       "      <td>Investing wisely can help your finances grow o...</td>\n",
       "      <td>finance</td>\n",
       "      <td>[34976, 287, 66713, 649, 1520, 701, 40382, 313...</td>\n",
       "      <td>[0.002446306636556983, -0.01792897842824459, 0...</td>\n",
       "    </tr>\n",
       "    <tr>\n",
       "      <th>2</th>\n",
       "      <td>Saving for retirement is a crucial part of fin...</td>\n",
       "      <td>finance</td>\n",
       "      <td>[44635, 369, 21624, 374, 264, 16996, 961, 315,...</td>\n",
       "      <td>[0.0072967358864843845, -0.017404714599251747,...</td>\n",
       "    </tr>\n",
       "  </tbody>\n",
       "</table>\n",
       "</div>"
      ],
      "text/plain": [
       "                                            sentence    label  \\\n",
       "0  Budgeting is the key to managing your finances...  finance   \n",
       "1  Investing wisely can help your finances grow o...  finance   \n",
       "2  Saving for retirement is a crucial part of fin...  finance   \n",
       "\n",
       "                                              tokens  \\\n",
       "0  [64001, 287, 374, 279, 1401, 311, 18646, 701, ...   \n",
       "1  [34976, 287, 66713, 649, 1520, 701, 40382, 313...   \n",
       "2  [44635, 369, 21624, 374, 264, 16996, 961, 315,...   \n",
       "\n",
       "                                           embedding  \n",
       "0  [-0.0009399246773682535, -0.004582423716783523...  \n",
       "1  [0.002446306636556983, -0.01792897842824459, 0...  \n",
       "2  [0.0072967358864843845, -0.017404714599251747,...  "
      ]
     },
     "execution_count": 40,
     "metadata": {},
     "output_type": "execute_result"
    }
   ],
   "source": [
    "df.head(3)"
   ]
  },
  {
   "cell_type": "code",
   "execution_count": 41,
   "id": "ac03c390-00b9-418f-bb17-d4efb844ffcd",
   "metadata": {},
   "outputs": [
    {
     "name": "stdout",
     "output_type": "stream",
     "text": [
      "Type embedding data point: <class 'str'>\n",
      "Type embedding data point: <class 'list'>\n"
     ]
    }
   ],
   "source": [
    "# The ast.literal_eval() method is a function that evaluates a string as a literal expression, and returns the result\n",
    "print('Type embedding data point:', type(df.loc[0, 'embedding']))\n",
    "df['embedding'] = df.embedding.apply(lambda x: ast.literal_eval(x))\n",
    "print('Type embedding data point:', type(df.loc[0, 'embedding']))"
   ]
  },
  {
   "cell_type": "code",
   "execution_count": 42,
   "id": "a3c76ca3-a676-4f75-9199-5663b92868b6",
   "metadata": {
    "scrolled": true
   },
   "outputs": [
    {
     "name": "stdout",
     "output_type": "stream",
     "text": [
      "First embedding: \n",
      "----------------\n",
      "[-0.0009399246773682535, -0.0045824237167835236, 0.007463514339178801, -0.041899994015693665, -0.01711268350481987, 0.0041601951234042645, -0.014306103810667992, -0.002995961345732212, 0.0015344599960371852, -0.03757835924625397, 0.01748523861169815, 0.01738589070737362, 0.008755037561058998, 0.022167010232806206, -0.023048723116517067, -0.008239669725298882, 0.03136911243200302, -0.027370357885956764, 0.010046560317277908, -0.008500458672642708, -0.02707231417298317, -0.007786395028233528, -0.004967397078871727, -0.01859048381447792, -0.006693567615002394, -0.015287164598703384, 0.012058356776833534, -0.011344293132424355, 0.003616885980591178, -0.016081947833299637, 0.01060539297759533, -0.01420675590634346, 0.011213898658752441, 0.0009538954473100603, -0.008202414028346539, -0.0021732363384217024, 0.009059290401637554, -0.0008110828348435462, 0.016678035259246826, 0.0007466618553735316, 0.03529335558414459, 0.014008060097694397, -0.0002792220329865813, 0.014852517284452915, -0.02103692665696144, 0.0384724922478199, -0.014417869970202446, -0.01605711132287979, -0.020540187135338783, 0.007836068980395794, 0.011859660968184471, 0.03407634422183037, -0.028562532737851143, -0.000109534987132065, -0.0050667449831962585, 0.006681148894131184, -0.002165474696084857, 0.014008060097694397, -0.01023904699832201, -0.024004945531487465, -0.016218552365899086, -0.011698219925165176, -0.01706300862133503, 0.01582115888595581, 0.01515056099742651, 0.0027165452484041452, -0.012815884314477444, -0.0030596060678362846, -0.002634272677823901, 0.023595135658979416, 0.030872372910380363, 0.023048723116517067, -0.013176021166145802, 0.015572790056467056, -0.0035330611281096935, -0.0180316511541605, -0.017050590366125107, 0.009332497604191303, 0.014256429858505726, 0.008997198194265366, 0.01674012839794159, 0.01568455621600151, -0.004318530671298504, -0.005284068640321493, 0.010996575467288494, -0.0019481510389596224, 0.007749139331281185, 0.008003718219697475, -0.03432471305131912, -0.0030394261702895164, 0.007351747713983059, 0.00841973815113306, 0.023818669840693474, 0.034150853753089905, -0.0005184720503166318, 0.02056502364575863, 0.005262336228042841, 0.003551688976585865, 0.026898454874753952, -0.005107105243951082, 0.00727723678573966, 0.017125101760029793, -0.026650086045265198, 0.0011145597090944648, -0.03141878545284271, -0.01014590822160244, 0.004523436073213816, -0.029133783653378487, 0.021322552114725113, -0.010493626818060875, -0.02997824177145958, 0.02809062972664833, -0.009400798939168453, -0.023582717403769493, 0.008363855071365833, -0.0016796011477708817, 0.015324420295655727, -0.01455447357147932, -0.004591737873852253, 0.0025442386977374554, 0.033927321434020996, 0.008798502385616302, 0.03449857234954834, 0.0022787933703511953, -0.0017556643579155207, -0.005600740201771259, -0.008432156406342983, -0.008221042342483997, 0.0025799418799579144, -0.004321635700762272, 0.02006828412413597, 0.02278793416917324, 0.006190618500113487, 0.036038465797901154, -0.022030405700206757, 0.0017603213200345635, -0.011592662893235683, 0.003601362928748131, -0.03519400954246521, -0.030797861516475677, 0.0089475242421031, 0.0346972681581974, -0.006674939766526222, -0.02394285425543785, -0.0011844137916341424, 0.003840418765321374, 0.023818669840693474, 0.009556029923260212, 0.01054330077022314, -0.02029181644320488, 0.006538336630910635, 0.004551377613097429, 0.021782036870718002, 0.00027340088854543865, -0.0018332799663767219, 0.022440215572714806, 0.008767455816268921, 0.004787329118698835, -0.012623397633433342, 0.0008320389897562563, 0.017783282324671745, 0.0010928274132311344, 0.032809656113386154, 0.02407945692539215, 0.015808740630745888, 0.02702263928949833, 0.007997509092092514, 0.016491757705807686, 0.004166404251009226, 0.014628984034061432, 0.016752546653151512, 0.007314492017030716, -0.02895992435514927, 0.025979487225413322, -0.007053704001009464, 0.025656605139374733, -0.02491149678826332, -0.019894424825906754, -0.02319774404168129, -0.00936354324221611, 0.01342439092695713, 0.020329073071479797, 0.002334676682949066, 0.032685473561286926, -0.010915854945778847, 0.0035330611281096935, 0.008593596518039703, 0.005321324337273836, 0.00710337795317173, -0.030003078281879425, 0.006501080933958292, 0.01418191846460104, -0.014107408002018929, -0.02024214342236519, -0.669207751750946, 0.003924243617802858, 0.015622464008629322, 0.006370686925947666, -0.00016570926527492702, -0.0038342096377164125, 0.0070723313838243484, 0.01254888717085123, -0.000308327900711447, 0.009034453891217709, 0.027593890205025673, 0.005662832874804735, -0.00020160646818112582, -0.031145580112934113, 0.010804088786244392, -0.02573111653327942, 0.015659719705581665, -0.02535856142640114, -0.0018146522343158722, 0.014753169380128384, -0.012002472765743732, 0.03348025679588318, -0.007208934985101223, 0.00236417050473392, 0.011654755100607872, 0.004001859109848738, 0.009593285620212555, -0.01881401613354683, -0.004399251192808151, 0.011437431909143925, 0.004265752155333757, 0.016255807131528854, 0.010561928153038025, -0.004563795868307352, 0.0408816784620285, 0.003340574447065592, -0.009605703875422478, 0.014380614273250103, -0.02236570604145527, 0.02181929163634777, -0.020689208060503006, -0.021968314424157143, 0.015982599928975105, -0.0050915819592773914, 1.1848503163491841e-05, -0.0026420343201607466, 0.008935105055570602, -0.005194034427404404, 0.0038994066417217255, 0.01670287363231182, 0.007649791426956654, -0.023644810542464256, -0.010853762738406658, 0.007295864634215832, 0.024153968319296837, 0.004094997886568308, -0.020217306911945343, -0.015212653204798698, 0.0042409151792526245, 0.018987875431776047, -0.02412913180887699, -0.002643586602061987, -0.018664995208382607, -0.003098414046689868, -0.02440233901143074, 0.009823027998209, -0.004973606206476688, 0.007767767179757357, 0.00310772773809731, -0.031617481261491776, -0.005721820518374443, -0.012064565904438496, -0.009338706731796265, -0.020701628178358078, 0.035442378371953964, -0.007705674506723881, 0.02938215434551239, -0.018280021846294403, -0.02163301408290863, 0.0057652853429317474, -0.0052468134090304375, -0.003790744813159108, -0.022539563477039337, -0.018838852643966675, 0.032909005880355835, -0.012443330138921738, 0.012002472765743732, -0.03345542028546333, 0.0003407323965802789, 0.017000917345285416, 0.0008002166287042201, 0.0013380926102399826, 0.006935728248208761, -0.018230346962809563, 0.007829859852790833, 0.010419115424156189, 0.011542988941073418, 0.011878288350999355, 0.005591426510363817, -0.01077304221689701, -0.012741373851895332, 0.025308888405561447, -0.001003569457679987, 0.011698219925165176, 0.017907466739416122, 0.01854080893099308, 0.021620595827698708, 0.0020661267917603254, 0.03340574726462364, -5.0013539294013754e-05, 0.006513499654829502, -0.026401715353131294, -0.004622783977538347, -0.0007086302503012121, 0.008189995773136616, -0.03588944301009178, 0.02268858626484871, -0.02010553888976574, 0.01176031306385994, 0.010512254200875759, 0.008904059417545795, -0.008525295183062553, 0.026898454874753952, -0.02379383146762848, -0.00040786986937746406, -0.00735795684158802, -0.008848176337778568, -0.01762184128165245, -0.02739519439637661, 0.004439610987901688, -0.006693567615002394, 0.010636438615620136, 0.020229725167155266, -0.00266997586004436, 0.029903730377554893, -0.001442097476683557, -0.022427797317504883, -0.016615943983197212, -0.00018841182463802397, -0.0287860669195652, 0.012815884314477444, -0.00885438546538353, -0.00031880600727163255, -0.020490512251853943, -0.013089091517031193, -0.03164231777191162, 0.008370064198970795, -0.01835453137755394, -0.00588015653192997, -0.014306103810667992, -0.011704429052770138, -0.024054620414972305, -0.02472521923482418, 0.011058667674660683, 0.016988497227430344, -0.004812166094779968, -0.012132867239415646, -3.0173056075000204e-05, -0.027097150683403015, -0.0252840518951416, 0.005805645138025284, 0.004063951782882214, -0.02518470399081707, -0.0069667743518948555, -0.01455447357147932, -0.00014902191469445825, 0.0071903071366250515, 0.011387757956981659, -0.018093744292855263, -0.016293061897158623, 0.00979819055646658, 0.018838852643966675, -0.009754725731909275, 0.03233775496482849, -0.008078229613602161, 0.01026388444006443, 0.0010369441006332636, -0.019062386825680733, 0.00920210313051939, -0.0006054015248082578, -0.0005821168306283653, -0.007420049514621496, -0.006280652713030577, 0.00019869588140863925, 0.03325672447681427, 0.0017432458698749542, -0.0002175176632590592, -0.005538647528737783, -0.009953421540558338, -0.004538958892226219, 0.01358583103865385, 0.023806249722838402, -0.0036355138290673494, -0.015212653204798698, 0.007506978698074818, 0.01014590822160244, -0.025072935968637466, 0.0004882020002696663, -0.007544234395027161, 0.017820537090301514, 0.029779545962810516, -0.007413840387016535, 0.002373484428972006, -0.019447360187768936, 0.0019543603993952274, -0.005768389906734228, 0.011145597323775291, 0.0016376887215301394, 0.005575903225690126, 0.020875485613942146, 0.01767151430249214, -0.015473442152142525, 0.0033529929351061583, -0.026650086045265198, 0.004448925144970417, 0.00033646353404037654, -0.005299591924995184, 0.006333431228995323, 0.005395835265517235, 0.004892886150628328, 0.01650417596101761, -0.02015521377325058, 0.013287787325680256, -0.023259837180376053, -0.004153985995799303, 0.029307642951607704, -0.0035827350802719593, 0.006879845168441534, -0.009580867365002632, -0.008103066124022007, -0.03891955688595772, 0.022701004520058632, -0.01323811337351799, 0.011008993722498417, 0.0063768960535526276, 0.02250230871140957, 0.021483993157744408, -0.005113314371556044, 0.02462587133049965, 0.004262647591531277, 0.012281889095902443, 0.0046538300812244415, 0.013486483134329319, 0.004538958892226219, 0.0004920827923342586, 0.016529014334082603, 0.04622162878513336, 0.020080702379345894, -0.009655377827584743, 0.024899078533053398, -0.010468789376318455, 0.0010299587156623602, -0.007593908347189426, -0.017361052334308624, 0.00023420501383952796, -0.04048428684473038, 0.018764343112707138, -0.0014909952878952026, 0.03248677775263786, 0.0449301078915596, 0.008742619305849075, 0.01669045351445675, -0.030474981293082237, -0.017373470589518547, 0.010512254200875759, -0.008624643087387085, 0.011288410052657127, -0.02134738862514496, -0.00804718304425478, 0.0029230026993900537, 0.019062386825680733, -0.0028034746646881104, 0.00630859425291419, -0.0226016566157341, 0.010655066929757595, 0.001039272639900446, 0.003016141476109624, -0.005752866622060537, -0.0037410708609968424, 0.013486483134329319, -0.024787312373518944, -0.007643582299351692, 0.013921130448579788, 0.006119212135672569, -0.017423145473003387, -0.01646692119538784, -0.006383105181157589, -0.005824272986501455, 0.020701628178358078, 0.008320390246808529, -0.006125421728938818, -0.015013957396149635, -0.024141550064086914, -0.013647923246026039, 0.002783294767141342, -0.010201792232692242, 0.020838230848312378, -0.007513188291341066, -0.010083816014230251, 0.0013668104074895382, 0.01767151430249214, 0.006066433619707823, -0.0094815194606781, -0.034150853753089905, 0.0039366623386740685, 0.030748188495635986, -0.013138765469193459, 0.0021561607718467712, -0.006451406981796026, 0.0025737325195223093, 0.0261036716401577, -0.029158620163798332, -0.009829237125813961, 0.007426258642226458, 0.031890690326690674, 0.004722131881862879, -0.007867115549743176, -0.00022042825003154576, 0.039689503610134125, 0.036460693925619125, -0.0032225989270955324, 0.004377518780529499, -0.02527163177728653, 0.017746025696396828, 0.11961492151021957, -0.006650102790445089, 0.013883874751627445, 0.019633637741208076, -0.007233771961182356, 0.0075690713711082935, -0.032909005880355835, -0.036063302308321, 0.0032846913672983646, 0.0010416010627523065, 0.03062400221824646, -0.011518152430653572, 0.005041908007115126, -0.011145597323775291, -0.009282823652029037, -0.0070723313838243484, -0.018528390675783157, -0.01113938819617033, 0.0037659078370779753, -0.004523436073213816, -0.013921130448579788, 0.011915544047951698, 0.012753792107105255, 0.019174152985215187, 0.0071965167298913, 0.03837314248085022, 0.0024231583811342716, 0.014566891826689243, 0.0019947204273194075, -0.007736721076071262, -0.0002679677854757756, 0.011791358701884747, -0.006811543367803097, 0.012753792107105255, -0.010965528897941113, 0.016715291887521744, 0.01199005451053381, -0.006923309527337551, 0.022576820105314255, 0.008245878852903843, 0.01780811883509159, 0.020676789805293083, 0.009854073636233807, -0.0006445973995141685, -0.0020443943794816732, -0.023682065308094025, 0.001962121808901429, -0.004216078203171492, 0.007059913128614426, -0.0061067938804626465, 0.01480284333229065, 0.007314492017030716, -0.028661880642175674, 0.010220419615507126, 0.03993787243962288, 0.006948146503418684, -0.01811858080327511, 0.0173486340790987, -0.02227877639234066, -0.04172613471746445, -0.05176027864217758, -0.007513188291341066, 0.012375027872622013, -0.012424701824784279, 0.011027621105313301, -0.006414151284843683, -0.01683947630226612, 0.00087627989705652, -0.022104917094111443, 0.0007268699118867517, 0.002822102513164282, -0.02204282395541668, -0.008264507167041302, -0.013337461277842522, 0.01900029368698597, 0.0030176937580108643, -0.0004493941960390657, 0.005982609000056982, -0.00023944406711962074, 0.008320390246808529, -0.02122320421040058, -0.01549827866256237, 0.009779563173651695, -0.017361052334308624, -0.024464430287480354, -0.003306423779577017, -0.011120759882032871, -0.014840099029242992, 0.0012845378369092941, -0.0011347397230565548, -0.0016081947833299637, 0.01164854597300291, 0.025706280022859573, -0.016938824206590652, -0.016069529578089714, -0.018565647304058075, 0.00835143681615591, -0.006699776742607355, 0.007475932594388723, 0.0033188422676175833, 0.029357315972447395, 0.014318522065877914, -0.02851285971701145, -0.02056502364575863, 0.016156459227204323, 0.01017074566334486, -0.008413529023528099, 0.011747893877327442, 0.006594219710677862, -0.006588010583072901, 0.011878288350999355, -0.029208295047283173, 0.0048059565015137196, -0.005169197451323271, 0.003016141476109624, 0.00013495408347807825, 0.00024681753711774945, -0.010965528897941113, 0.00024875791859813035, -0.003056501504033804, 0.014306103810667992, -0.013635504990816116, 0.010810297913849354, 0.04271961376070976, -0.002531820209696889, -0.002373484428972006, 0.023396439850330353, -0.012753792107105255, -0.018292440101504326, 0.008997198194265366, 0.0162806436419487, 0.0030223506037145853, -0.018255183473229408, -0.03427504003047943, -0.020776137709617615, -0.0073082828894257545, -0.018975457176566124, 0.009158638305962086, -0.03206454962491989, -0.02171994373202324, -0.025855300948023796, -0.004840107634663582, 0.0069295191206038, -0.006674939766526222, 0.039639830589294434, -0.03062400221824646, -0.0008685183129273355, -0.006317907944321632, 0.00691710039973259, 0.022402960807085037, -0.0006224769749678671, 0.012052147649228573, -0.04681771621108055, -0.009823027998209, 0.006199932657182217, -0.04401113837957382, -0.0030083798337727785, -0.01141880452632904, 0.0011052459012717009, 0.021744780242443085, 0.034846290946006775, 0.016615943983197212, -0.01146226841956377, -0.009425636380910873, 0.00022042825003154576, -0.020676789805293083, 0.00223067170009017, -0.01701333560049534, -0.028016120195388794, 0.008543922565877438, 0.015324420295655727, 0.008307971991598606, 0.01877676136791706, -0.016404828056693077, 0.0005324428784660995, -0.01609436608850956, -0.000748990336433053, -0.014094988815486431, -0.03454824537038803, -0.0063644773326814175, -0.006218560039997101, 0.013250531628727913, 0.0008452336769551039, -0.001242625410668552, -0.0390189029276371, -0.02297421172261238, -0.0009895986877381802, 0.043564073741436005, 0.036733902990818024, 0.01070474088191986, 0.014951865188777447, -0.0138590382412076, 0.001997824991121888, -0.0009531193063594401, 0.009251777082681656, -0.022912118583917618, -0.01959638111293316, -0.04021107777953148, -0.006755659822374582, 0.019857170060276985, 0.012989743612706661, 0.015287164598703384, 0.006001236382871866, 0.0032598543912172318, -0.0009150877012871206, -0.0007687823381274939, -0.003480282612144947, -0.004067056346684694, 0.01941010355949402, -0.01289039570838213, -0.02297421172261238, -0.013362297788262367, -0.01706300862133503, 0.016342736780643463, 0.02255198359489441, 0.015473442152142525, -0.012468166649341583, 0.019223826006054878, -0.017820537090301514, -0.005482764448970556, -0.0027538007125258446, -0.00016182848776225, 0.011903124861419201, -0.02518470399081707, 0.013101509772241116, -0.005923620890825987, 0.0010990366572514176, -0.01356099359691143, 0.013635504990816116, -0.00390251143835485, -0.013511319644749165, 0.007128214929252863, 0.009661586955189705, 0.012728954665362835, -0.038447652012109756, 0.028239652514457703, 0.012114239856600761, -0.01356099359691143, -0.004219182766973972, 0.01914931647479534, -0.004268856719136238, 0.01678980141878128, 0.006581800989806652, -0.02015521377325058, -0.00011943097342737019, 0.04560070484876633, 0.007730511948466301, 0.010729577392339706, -0.010506045073270798, -0.01167338341474533, 0.005802540574222803, 0.012697909027338028, -0.031344275921583176, 0.016392409801483154, -0.004008068703114986, -0.01932317391037941, -0.004579319152981043, -0.0014490828616544604, -0.013449227437376976, 0.009810608811676502, 0.002409187611192465, 0.02776774950325489, -0.009878911077976227, 0.03519400954246521, 0.0023548565804958344, 0.012791047804057598, -0.009562239050865173, 0.002222910290583968, 0.014492381364107132, 0.023036304861307144, -0.007879533804953098, -0.025346143171191216, 0.016355155035853386, -0.005721820518374443, -0.0043123215436935425, 0.012629606761038303, -0.021620595827698708, -0.03025144897401333, 0.006103689316660166, -0.005818063858896494, -0.002308287424966693, 0.0023626182228326797, -0.030325958505272865, -0.00285470113158226, 0.008127903565764427, -0.017783282324671745, -0.02389317937195301, 0.01563488319516182, -0.006842589471489191, 0.008990989066660404, -0.011126969940960407, 0.00858117826282978, 0.0173486340790987, 0.006438988260924816, -0.005681460257619619, -0.005181616172194481, -0.013536157086491585, 0.006972983479499817, -0.020813394337892532, 0.0022679271642118692, 0.006699776742607355, 0.013101509772241116, -0.013983222655951977, -0.0016671826597303152, -0.014442707411944866, -0.018900945782661438, 0.02943182736635208, -0.04120456054806709, -0.008792293258011341, 0.014504799619317055, 0.022030405700206757, 0.009053081274032593, -0.01176031306385994, 0.009506355971097946, -0.007078540977090597, 0.008127903565764427, 0.012163913808763027, -0.013498901389539242, -0.029680198058485985, 0.00964295957237482, 0.006501080933958292, -0.012598561123013496, 0.011182853020727634, -0.007823650725185871, 0.013784526847302914, -0.000967866275459528, 0.0227382592856884, -0.0031915525905787945, 0.0010811850661411881, -0.007475932594388723, -0.029680198058485985, 0.03141878545284271, 0.0028966134414076805, -0.013026999309659004, -0.005299591924995184, -0.019993772730231285, -0.006674939766526222, -0.00516609288752079, -0.017447981983423233, 0.017038172110915184, -0.012343982234597206, -0.023073559626936913, 0.012089402414858341, 0.008612224832177162, 0.00859980657696724, -0.005358579568564892, -0.012586141936480999, -0.0019341802690178156, -0.0017230658559128642, -0.0024293677415698767, -0.015162979252636433, 0.013821782544255257, 6.146184023236856e-05, -0.018975457176566124, -0.01077304221689701, -0.017423145473003387, -0.0548897385597229, -0.028661880642175674, -0.024091875180602074, 0.018019232898950577, 0.014094988815486431, 0.018851272761821747, 0.016628362238407135, 0.03631167113780975, -0.006001236382871866, 0.008314181119203568, -0.014330940321087837, 0.004417878575623035, 0.011083505116403103, 0.0020521560218185186, 0.009885120205581188, 0.004470657557249069, -0.012635815888643265, -0.006588010583072901, 0.007128214929252863, -0.02283760905265808, 0.018689831718802452, 0.005476555321365595, 0.005200244020670652, -0.017311379313468933, 8.552266808692366e-05, 0.02545790933072567, 0.017832955345511436, 0.010530881583690643, 0.02297421172261238, -0.019397685304284096, 0.010431533679366112, 0.023644810542464256, 0.0068487985990941525, -0.01955912634730339, 0.004889781586825848, 0.00354547961615026, -0.03658488020300865, -0.014927028678357601, -0.03993787243962288, 0.010121071711182594, -0.0011642336612567306, 0.0013745719334110618, -0.007662210147827864, 0.006144049111753702, 0.019484614953398705, 0.009990677237510681, 0.036833249032497406, -0.006171991117298603, 0.007842278108000755, 0.01339955348521471, -0.015473442152142525, -0.00797888170927763, 0.002277241088449955, -0.009791981428861618, 0.011331874877214432, -0.013474064879119396, -0.011344293132424355, -0.0027025744784623384, 0.0006880621076561511, -0.012902813963592052, 0.005131942220032215, 0.008196204900741577, -0.00032346294028684497, -0.0014025134732946754, -0.021707525476813316, 0.01991926319897175, -0.016293061897158623, 0.007842278108000755, -0.005464136600494385, -0.02457619644701481, 0.00393045274540782, -0.028612207621335983, -0.03345542028546333, 0.0027786376886069775, -0.02042842097580433, -0.004669353365898132, -0.023582717403769493, -0.00500465277582407, -0.0057404483668506145, 0.03906857967376709, 0.2314807027578354, -0.01937284879386425, 0.0038124772254377604, 0.03400183469057083, 0.025296470150351524, 0.03208938613533974, 0.015013957396149635, -0.0010625573340803385, -0.014355777762830257, 0.005082268267869949, -0.03315737470984459, 0.001140948967076838, 0.00046802195720374584, 0.00691710039973259, -0.011275991797447205, -0.04353923723101616, -0.010226628743112087, -0.005063640419393778, 0.004172613378614187, 0.018416624516248703, -0.003455445636063814, 0.025147447362542152, -0.00394287146627903, -0.011195271275937557, 0.03574042022228241, -0.006156467832624912, -0.02265133149921894, 0.01670287363231182, 0.023992527276277542, 0.01164854597300291, -0.001574820140376687, -0.009407008066773415, 0.004622783977538347, 0.006333431228995323, -0.020316654816269875, -0.00394287146627903, -0.016665617004036903, -0.026724595576524734, 0.01092827320098877, -0.002857805695384741, 0.013573412783443928, 0.01077304221689701, 0.03370378911495209, -0.022017987444996834, 0.033281560987234116, 0.009767144918441772, -0.014951865188777447, 0.004101207014173269, 0.005194034427404404, 0.015808740630745888, -0.028388675302267075, 0.018888527527451515, 0.00612231669947505, 0.008873012848198414, -0.03916792571544647, -0.009686424396932125, 0.027569053694605827, -0.009947212412953377, 0.00446134340018034, 0.005836691707372665, -0.00059104262618348, 0.00904066301882267, 0.015883252024650574, -0.0022353287786245346, -0.01775844395160675, 0.020651953294873238, -0.024427175521850586, 0.014815261587500572, 0.011040040291845798, -0.0138590382412076, 0.013014580123126507, 0.008444574661552906, -0.011542988941073418, 0.009518774226307869, -0.004784224554896355, 0.0024728323332965374, 0.020627116784453392, 0.015461023896932602, 0.02535856142640114, 0.014405451714992523, -0.04187515750527382, 0.0002582658489700407, -0.027842260897159576, -0.0173486340790987, 0.005017071031033993, -0.04468173533678055, -0.009071708656847477, -0.015572790056467056, -0.005088477395474911, -0.015647301450371742, 0.0034771780483424664, -0.0180316511541605, -0.024849403649568558, -0.02015521377325058, 0.012803466059267521, 0.02010553888976574, -0.01765909604728222, 0.01367276068776846, -0.020825812593102455, 0.00691710039973259, -0.017497656866908073, 0.024365082383155823, 0.009736098349094391, 0.01881401613354683, -0.018292440101504326, -0.015709392726421356, -0.022303612902760506, 0.012691699899733067, 0.009077917784452438, -0.013722434639930725, -0.0021716838236898184, -0.025855300948023796, 0.016591105610132217, 0.014492381364107132, 0.001242625410668552, 0.002298973500728607, 0.02134738862514496, 0.009450472891330719, 0.0032008665148168802, -0.02075130119919777, -0.020403584465384483, 0.005724925082176924, 0.007153051905333996, 0.0006744794081896544, 0.011704429052770138, -0.008910268545150757, -0.02674943394958973, 0.00904066301882267, 0.00507295411080122, -0.024427175521850586, 0.019360430538654327, -0.02149641141295433, -0.01831727661192417, -0.025954650714993477, -0.01176031306385994, 0.012853140011429787, 0.0013590487651526928, -1.9355386029928923e-05, -0.01813099905848503, 0.01867741346359253, -0.012623397633433342, 0.009152429178357124, 0.008208624087274075, -0.016355155035853386, 0.038944393396377563, 0.0005929830367676914, 0.014479962177574635, 0.004840107634663582, -0.010313558392226696, -0.015299582853913307, -0.00020393493468873203, -0.0042409151792526245, -0.008699154481291771, -0.027047477662563324, 0.027519380673766136, 0.0028671196196228266, -0.034895963966846466, -0.02873639203608036, 0.02438991889357567, 0.03030112199485302, -0.019223826006054878, 0.011747893877327442, 0.031095905229449272, -0.023955272510647774, -0.001074199564754963, -0.012151495553553104, -0.15518148243427277, 0.027891933917999268, 0.020316654816269875, -0.006867426447570324, 0.008252087980508804, -0.008289343677461147, 0.015398930758237839, 0.011319455690681934, -0.01923624612390995, 0.020651953294873238, 0.020676789805293083, -0.012350191362202168, -0.01945977844297886, 0.0004369757079984993, 0.008742619305849075, -0.012170122936367989, -0.002441786229610443, 0.015113305300474167, 0.0014017373323440552, 0.007482141721993685, 0.029903730377554893, -0.016988497227430344, 0.004840107634663582, -0.010462580248713493, 0.006712195463478565, -0.001411827397532761, -0.024973588064312935, 0.0060353875160217285, -0.017361052334308624, -0.02637687884271145, -0.02343369647860527, 0.008562550880014896, 0.023235000669956207, 0.01762184128165245, -0.017646677792072296, 0.0025194017216563225, -0.0036696644965559244, -0.016963660717010498, 0.014976702630519867, 0.02537098154425621, 0.0261036716401577, 0.016727710142731667, -0.01549827866256237, 0.003601362928748131, 0.022899700328707695, 0.029531175270676613, 0.008463202975690365, 0.010568137280642986, -0.02319774404168129, -0.006457616109400988, 0.019037548452615738, 0.012219796888530254, -0.024278152734041214, -0.0017944722203537822, -0.0034119808115065098, 0.011263572610914707, -0.001166562200523913, 0.00029416303732432425, 0.009003407321870327, -0.016255807131528854, -0.025904975831508636, 0.018416624516248703, 0.014132244512438774, 0.0062247696332633495, -0.010487416759133339, -0.02236570604145527, 0.003056501504033804, -0.010555719025433064, -0.01826760359108448, 0.022850027307868004, 0.0068487985990941525, 0.0015259223291650414, -0.007910579442977905, -0.002288107294589281, -0.0011890706373378634, -0.008059602230787277, -0.013921130448579788, 0.030201774090528488, 0.00551070598885417, 0.01650417596101761, 0.009928585030138493, 0.022340867668390274, -0.006358268205076456, -0.028984762728214264, 0.0143930334597826, 0.007221353705972433, 0.011226317845284939, -0.01651659607887268, 0.014542055316269398, -0.016715291887521744, 0.004551377613097429, -0.025246795266866684, -0.0062961759977042675, 0.009680215269327164, 0.01886369101703167, 0.02292453683912754, 0.01252404972910881, -0.010922064073383808, 0.031890690326690674, 0.014231592416763306, -0.0007466618553735316, 0.022899700328707695, -0.03735482692718506, 0.00464762095361948, 0.030797861516475677, -0.0008545475429855287, 0.030499817803502083, 0.00310772773809731, 0.010940692387521267, -0.015225072391331196, -0.019074805080890656, 0.01464140322059393, 0.012555096298456192, 0.011511942371726036, 0.013685178942978382, 0.02583046443760395, 0.014951865188777447, -0.01767151430249214, 0.011008993722498417, -0.01729896105825901, 0.03561623767018318, -0.007631163578480482, -0.013548575341701508, 0.013411971740424633, -0.006199932657182217, -0.0050915819592773914, -0.09562239050865173, -0.03293384239077568, 0.007302073761820793, 0.04994717612862587, 0.01104624941945076, 0.006935728248208761, -0.002938525751233101, 0.01762184128165245, 0.009953421540558338, 0.015995018184185028, -0.03333123400807381, -0.014256429858505726, -0.04428434371948242, -0.013498901389539242, -0.002817445434629917, -0.01794472150504589, 0.015162979252636433, -0.018242765218019485, 0.016901569440960884, 0.010487416759133339, 0.010754414834082127, -0.017125101760029793, -0.02357029914855957, 0.0062123509123921394, -0.03089720942080021, 0.007028867024928331, -0.01651659607887268, 0.024514105170965195, 0.008053392171859741, 0.00737037556245923, -0.0023517520166933537, -0.0001722095621516928, 0.012393656186759472, -0.023259837180376053, 0.008550132624804974, -0.009214521385729313, -0.017187193036079407, 0.0025100877974182367, 0.009158638305962086, -0.015212653204798698, 0.010555719025433064, 1.719670217426028e-05, 0.016951242461800575, -0.043290864676237106, 0.017447981983423233, -0.006699776742607355, -0.004529645200818777, 0.002635825192555785, -0.01104624941945076, -0.0086060157045722, -0.032685473561286926, -0.014653821475803852, -0.03303319215774536, -0.022663749754428864, 0.007991299964487553, -0.005920516327023506, -0.009046872146427631, 0.006581800989806652, 0.025706280022859573, -0.02044083923101425, 0.014157081954181194, 8.595925464760512e-05, -0.003918034490197897, 0.043986301869153976, -0.0024076353292912245, 0.006299280561506748, -0.0016485549276694655, -0.023135652765631676, 0.029580850154161453, -0.014951865188777447, -0.008817129768431187, 0.03370378911495209, -0.01798197813332081, -0.016392409801483154, -0.04478108510375023, 0.029208295047283173, -0.027295846492052078, -0.005923620890825987, 0.012064565904438496, -0.001050138846039772, -0.0027538007125258446, -0.03434954956173897, 0.012461957521736622, -0.02126045897603035, -0.015647301450371742, 0.005268545355647802, 0.015361675061285496, -0.0030937569681555033, -0.015982599928975105, -0.011040040291845798, 0.008034764789044857, 0.02841351181268692, 0.013300205580890179, -0.015622464008629322, -0.011679592542350292, 0.007506978698074818, 0.008531504310667515, 0.0003873017558362335, 0.0006050134543329477, -0.006699776742607355, 0.015113305300474167, 0.0005720268236473203, -0.039416294544935226, 0.02236570604145527, 0.00848803948611021, -0.002730516018345952, -0.006941937375813723, -0.0009795086225494742, -0.010915854945778847, -0.02873639203608036, -0.009220730513334274, 0.007426258642226458, -0.023172907531261444, -0.005144360475242138, -0.0143930334597826, -0.010710950009524822, -0.028214816004037857, -0.02440233901143074, -0.00016464204236399382, -0.014852517284452915, -0.011654755100607872, 0.026277530938386917, -0.018876109272241592, 0.02647622674703598, 0.008891641162335873, -0.0022508518304675817, 0.02034149132668972, 0.006631474941968918, 0.009034453891217709, 0.029531175270676613, -0.0046538300812244415, -0.017361052334308624, 0.005212662275880575, -0.024874240159988403, -0.002561314031481743, 0.022055242210626602, 0.00041601949487812817, -0.039366621524095535, -0.002125114668160677, 0.00832659937441349, 0.013635504990816116, -0.01254267804324627, 0.016715291887521744, -0.0039118253625929356, 0.00835143681615591, -0.01646692119538784, -0.015883252024650574, -0.0036696644965559244, -0.0031884480267763138, -0.013039417564868927, 0.01496428344398737, -0.010903436690568924, 0.026501063257455826, 0.013250531628727913, -0.010034142062067986, -0.01908722333610058, -0.014070152305066586, -0.023172907531261444, 0.008115485310554504, -0.0019698834512382746, -0.008680526167154312, -0.03670906275510788, 0.0020149005576968193, 0.0066625215113162994, -0.0016283749137073755, -0.037429336458444595, -0.007128214929252863, 0.0015057421987876296, -0.014169500209391117, 0.025706280022859573, 0.0020195574034005404, -0.04579940065741539, -0.022961793467402458, -0.018429042771458626, 0.010940692387521267, 0.018764343112707138, 0.0022710319608449936, -0.007376584690064192, 0.001212355331517756, 0.0037472802214324474, -0.01636757329106331, 0.04078232869505882, 0.018652576953172684, -0.0027926084585487843, -0.034523408859968185, 0.024601034820079803, 0.018143417313694954, 0.008425947278738022, -0.0014102751156315207, 0.025147447362542152, 0.013387135230004787, 0.011952798813581467, -0.012188750319182873, 0.013536157086491585, -0.01533683855086565, -0.01818067394196987, 0.0059546674601733685, 0.044209834188222885, -0.014417869970202446, 0.014144662767648697, -0.012443330138921738, 0.023135652765631676, 0.01595776341855526, -0.006019864231348038, 0.006792915519326925, -0.02928280644118786, -0.013039417564868927, -0.016305480152368546, -0.017907466739416122, -0.01955912634730339, -0.013188439421355724, 0.030102426186203957, 0.007985090836882591, 0.002367275068536401, 0.012095611542463303, -0.009344915859401226, -0.005212662275880575, 0.016889149323105812, -0.0139956409111619, -0.021049344912171364, -0.02707231417298317, 0.01835453137755394, -0.0013854381395503879, 0.030822698026895523, 0.004315426107496023, -0.008264507167041302, 0.00947531033307314, 0.005591426510363817, 0.010406697168946266, -0.019633637741208076, 0.009854073636233807, -0.0012364161666482687, -0.0026311681140214205, 0.00970505177974701, -0.010350814089179039, -0.014566891826689243, -0.0038963020779192448, -0.023880761116743088, -0.014132244512438774, 0.030748188495635986, -0.01267928071320057, 0.04654451087117195, -0.007022657431662083, -0.012126658111810684, -0.004774910397827625, 0.019869588315486908, 0.021148692816495895, 0.0038994066417217255, 0.006432779133319855, -0.01724928617477417, -0.018019232898950577, 0.007873324677348137, 0.0015197130851447582, -0.006656311918050051, -0.017932303249835968, 0.0012457300908863544, 0.008158950135111809, 0.0030239028856158257, 0.006352059077471495, 0.0024728323332965374, 0.03464759513735771, 0.03728031367063522, 0.012728954665362835, -0.003719338681548834, 0.025681443512439728, -0.02163301408290863, -0.021707525476813316, 0.0016330317594110966, 0.0197826586663723, 0.012095611542463303, -0.05414462834596634, -0.007606326602399349, -0.011431222781538963, -0.008307971991598606, -0.015597626566886902, 0.02550758421421051, -0.006488662678748369, -0.00482147978618741, -0.0020102434791624546, -0.004063951782882214, 0.01872708648443222, 0.00954361166805029, 0.03718096762895584, -0.02379383146762848, -0.043241191655397415, -0.026823943480849266, 0.0075318156741559505, 0.009431845508515835, 0.017100265249609947, -0.03939145803451538]\n"
     ]
    }
   ],
   "source": [
    "print(f\"First embedding: \\n----------------\\n{df.loc[0, 'embedding']}\")"
   ]
  },
  {
   "cell_type": "code",
   "execution_count": 44,
   "id": "186ac73e-82c5-45d6-8670-f63e34f36306",
   "metadata": {},
   "outputs": [
    {
     "name": "stdout",
     "output_type": "stream",
     "text": [
      "Shape: (80, 1536)\n"
     ]
    }
   ],
   "source": [
    "embeddings = np.array(df.embedding.tolist())\n",
    "print('Shape:', embeddings.shape)"
   ]
  },
  {
   "cell_type": "code",
   "execution_count": 8,
   "id": "1e6f702a-5cb8-42fe-a4f5-3a868cf0d611",
   "metadata": {
    "scrolled": true
   },
   "outputs": [
    {
     "data": {
      "text/plain": [
       "array([[-0.00093992, -0.00458242,  0.00746351, ...,  0.00943185,\n",
       "         0.01710027, -0.03939146],\n",
       "       [ 0.00244631, -0.01792898,  0.01451878, ..., -0.00419912,\n",
       "         0.0154604 , -0.01935413],\n",
       "       [ 0.00729674, -0.01740471,  0.00736545, ..., -0.00180857,\n",
       "         0.01120124, -0.02683799],\n",
       "       ...,\n",
       "       [ 0.01745596,  0.01310805,  0.02384919, ..., -0.00975707,\n",
       "        -0.00753166, -0.0146131 ],\n",
       "       [ 0.01612055, -0.00741286,  0.02745026, ...,  0.00925799,\n",
       "         0.00030307, -0.02451101],\n",
       "       [ 0.02075868, -0.00062537,  0.02568625, ..., -0.0075093 ,\n",
       "        -0.01985442, -0.00650675]])"
      ]
     },
     "execution_count": 8,
     "metadata": {},
     "output_type": "execute_result"
    }
   ],
   "source": [
    "embeddings"
   ]
  },
  {
   "cell_type": "code",
   "execution_count": 9,
   "id": "f05295b0-59ce-40a7-a455-9596e876b953",
   "metadata": {
    "scrolled": true
   },
   "outputs": [
    {
     "name": "stdout",
     "output_type": "stream",
     "text": [
      "Number of embeddings : 80\n",
      "Embedding length     : 1536\n"
     ]
    }
   ],
   "source": [
    "print('Number of embeddings :', len(embeddings))\n",
    "print('Embedding length     :', len(embeddings[0]))"
   ]
  },
  {
   "cell_type": "markdown",
   "id": "460f1416-c509-4646-807d-e4e35d26797a",
   "metadata": {
    "jp-MarkdownHeadingCollapsed": true
   },
   "source": [
    "## Reduce data dimensionality using PCA"
   ]
  },
  {
   "cell_type": "code",
   "execution_count": 10,
   "id": "087a21ce-fc9e-4557-9833-cf82781e8c82",
   "metadata": {},
   "outputs": [],
   "source": [
    "from sklearn.decomposition import PCA"
   ]
  },
  {
   "cell_type": "markdown",
   "id": "0a8fc874-b096-4bd3-934e-9347bb7420b3",
   "metadata": {},
   "source": [
    "### 1536 dimensions -> 2 dimensions"
   ]
  },
  {
   "cell_type": "code",
   "execution_count": 11,
   "id": "4aafce0f-5be2-4931-8e4c-2ea7dcb062ac",
   "metadata": {
    "scrolled": true
   },
   "outputs": [
    {
     "name": "stdout",
     "output_type": "stream",
     "text": [
      "Shape: (80, 2)\n"
     ]
    },
    {
     "data": {
      "text/plain": [
       "array([[0.34112927, 0.04398543],\n",
       "       [0.33263518, 0.04194145],\n",
       "       [0.29035947, 0.02548013],\n",
       "       [0.22687835, 0.00484066],\n",
       "       [0.25547223, 0.04220011]])"
      ]
     },
     "execution_count": 11,
     "metadata": {},
     "output_type": "execute_result"
    }
   ],
   "source": [
    "two_dim_embeddings = PCA(random_state=0, n_components=2).fit_transform(embeddings) #[:,:3]\n",
    "print('Shape:', two_dim_embeddings.shape)\n",
    "two_dim_embeddings[:5]"
   ]
  },
  {
   "cell_type": "markdown",
   "id": "9468341d-b04b-43c5-9bd5-fb0d6444286f",
   "metadata": {},
   "source": [
    "### 1536 dimensions -> 3 dimensions"
   ]
  },
  {
   "cell_type": "code",
   "execution_count": 12,
   "id": "a638dce1-2291-4929-8378-c63a854d46fa",
   "metadata": {},
   "outputs": [
    {
     "name": "stdout",
     "output_type": "stream",
     "text": [
      "Shape: (80, 2)\n"
     ]
    },
    {
     "data": {
      "text/plain": [
       "array([[ 0.34112928,  0.04398394, -0.01940915],\n",
       "       [ 0.33263523,  0.0419402 , -0.05582152],\n",
       "       [ 0.29035949,  0.02547859, -0.02792763],\n",
       "       [ 0.22687829,  0.0048433 , -0.04793241],\n",
       "       [ 0.25547217,  0.04220381, -0.06980333]])"
      ]
     },
     "execution_count": 12,
     "metadata": {},
     "output_type": "execute_result"
    }
   ],
   "source": [
    "three_dim_embeddings = PCA(random_state=0, n_components=3).fit_transform(embeddings) #[:,:3]\n",
    "print('Shape:', two_dim_embeddings.shape)\n",
    "three_dim_embeddings[:5]"
   ]
  },
  {
   "cell_type": "markdown",
   "id": "7df774dc-9446-48cf-9f95-9d47bbe1bc51",
   "metadata": {},
   "source": [
    "### Save reduced embeddings"
   ]
  },
  {
   "cell_type": "code",
   "execution_count": 13,
   "id": "280f26ed-5968-48cd-bb4b-5af09f312f80",
   "metadata": {},
   "outputs": [
    {
     "data": {
      "text/html": [
       "<div>\n",
       "<style scoped>\n",
       "    .dataframe tbody tr th:only-of-type {\n",
       "        vertical-align: middle;\n",
       "    }\n",
       "\n",
       "    .dataframe tbody tr th {\n",
       "        vertical-align: top;\n",
       "    }\n",
       "\n",
       "    .dataframe thead th {\n",
       "        text-align: right;\n",
       "    }\n",
       "</style>\n",
       "<table border=\"1\" class=\"dataframe\">\n",
       "  <thead>\n",
       "    <tr style=\"text-align: right;\">\n",
       "      <th></th>\n",
       "      <th>sentence</th>\n",
       "      <th>label</th>\n",
       "      <th>tokens</th>\n",
       "      <th>embedding</th>\n",
       "      <th>PCA_2D</th>\n",
       "      <th>PCA_3D</th>\n",
       "    </tr>\n",
       "  </thead>\n",
       "  <tbody>\n",
       "    <tr>\n",
       "      <th>0</th>\n",
       "      <td>Budgeting is the key to managing your finances...</td>\n",
       "      <td>finance</td>\n",
       "      <td>[64001, 287, 374, 279, 1401, 311, 18646, 701, ...</td>\n",
       "      <td>[-0.0009399246773682535, -0.004582423716783523...</td>\n",
       "      <td>[0.34112926783458464, 0.043985433147298976]</td>\n",
       "      <td>[0.34112927553076006, 0.04398393936576726, -0....</td>\n",
       "    </tr>\n",
       "    <tr>\n",
       "      <th>1</th>\n",
       "      <td>Investing wisely can help your finances grow o...</td>\n",
       "      <td>finance</td>\n",
       "      <td>[34976, 287, 66713, 649, 1520, 701, 40382, 313...</td>\n",
       "      <td>[0.002446306636556983, -0.01792897842824459, 0...</td>\n",
       "      <td>[0.33263518043048884, 0.04194145013825972]</td>\n",
       "      <td>[0.3326352264121871, 0.04194019985135301, -0.0...</td>\n",
       "    </tr>\n",
       "  </tbody>\n",
       "</table>\n",
       "</div>"
      ],
      "text/plain": [
       "                                            sentence    label  \\\n",
       "0  Budgeting is the key to managing your finances...  finance   \n",
       "1  Investing wisely can help your finances grow o...  finance   \n",
       "\n",
       "                                              tokens  \\\n",
       "0  [64001, 287, 374, 279, 1401, 311, 18646, 701, ...   \n",
       "1  [34976, 287, 66713, 649, 1520, 701, 40382, 313...   \n",
       "\n",
       "                                           embedding  \\\n",
       "0  [-0.0009399246773682535, -0.004582423716783523...   \n",
       "1  [0.002446306636556983, -0.01792897842824459, 0...   \n",
       "\n",
       "                                        PCA_2D  \\\n",
       "0  [0.34112926783458464, 0.043985433147298976]   \n",
       "1   [0.33263518043048884, 0.04194145013825972]   \n",
       "\n",
       "                                              PCA_3D  \n",
       "0  [0.34112927553076006, 0.04398393936576726, -0....  \n",
       "1  [0.3326352264121871, 0.04194019985135301, -0.0...  "
      ]
     },
     "execution_count": 13,
     "metadata": {},
     "output_type": "execute_result"
    }
   ],
   "source": [
    "df[\"PCA_2D\"] = list(map(lambda x: list(x), two_dim_embeddings))\n",
    "df[\"PCA_3D\"] = list(map(lambda x: list(x), three_dim_embeddings))\n",
    "df.head(2)"
   ]
  },
  {
   "cell_type": "code",
   "execution_count": 14,
   "id": "0498610c-0a65-45ad-9ee7-c9ee40524abf",
   "metadata": {},
   "outputs": [],
   "source": [
    "# df.to_csv('./concatenated_data/data_80_embeddings_PCA.csv', index=None)"
   ]
  },
  {
   "cell_type": "markdown",
   "id": "27e5b73f-3886-4dd3-83ab-99bbebcebdeb",
   "metadata": {
    "jp-MarkdownHeadingCollapsed": true
   },
   "source": [
    "# Visualizations"
   ]
  },
  {
   "cell_type": "markdown",
   "id": "a83efb76-ba1a-44b8-a292-d114766373c5",
   "metadata": {},
   "source": [
    "Each sentence is mapped into embedding space with is vector representation.\n",
    "\n",
    "https://towardsdatascience.com/a-one-stop-shop-for-principal-component-analysis-5582fb7e0a9c\n",
    "\n",
    "https://towardsdatascience.com/visualizing-word-embedding-with-pca-and-t-sne-961a692509f5"
   ]
  },
  {
   "cell_type": "code",
   "execution_count": 17,
   "id": "f7cd5da9-8684-4e63-a86c-42548cd30a6c",
   "metadata": {},
   "outputs": [],
   "source": [
    "import matplotlib.pyplot as plt\n",
    "import plotly\n",
    "import plotly.graph_objs as go"
   ]
  },
  {
   "cell_type": "code",
   "execution_count": 47,
   "id": "cc1f1f60-5e70-4b6d-8f60-7aece669a5a3",
   "metadata": {},
   "outputs": [
    {
     "data": {
      "image/png": "[encoded data removed]",
      "text/plain": [
       "<Figure size 800x550 with 1 Axes>"
      ]
     },
     "metadata": {},
     "output_type": "display_data"
    }
   ],
   "source": [
    "def plot_2D_plt(points: np.ndarray) -> None:\n",
    "    \n",
    "    plt.style.use('seaborn-v0_8')\n",
    "    \n",
    "    fig, ax = plt.subplots()\n",
    "    \n",
    "    x = points[:20].T[0]\n",
    "    y = points[:20].T[1]\n",
    "    ax.scatter(x, y, color = '#b00412', alpha=0.5, s=100, label='finance')\n",
    "\n",
    "    x = points[20:40].T[0]\n",
    "    y = points[20:40].T[1]\n",
    "    ax.scatter(x, y, color = '#e85a02', alpha=0.5, s=100, label='animal')\n",
    "    \n",
    "    x = points[40:60].T[0]\n",
    "    y = points[40:60].T[1]\n",
    "    ax.scatter(x, y, color = '#00947b', alpha=0.5, s=100, label='sport')\n",
    "    \n",
    "    x = points[60:80].T[0]\n",
    "    y = points[60:80].T[1]\n",
    "    ax.scatter(x, y, color = '#00004d', alpha=0.5, s=100, label='food')\n",
    "    \n",
    "    ax.set_title('Embedding clusters | 2 dimensions', fontweight =\"bold\")\n",
    "    ax.set_xlabel('first embedding dimension values')\n",
    "    ax.set_ylabel('second embedding dimension values')\n",
    "    leg = ax.legend();\n",
    "    \n",
    "    plt.show()\n",
    "\n",
    "plot_2D_plt(two_dim_embeddings)"
   ]
  },
  {
   "cell_type": "code",
   "execution_count": 204,
   "id": "56e0d298-29ee-48a3-98e0-d047d82fd349",
   "metadata": {
    "scrolled": true
   },
   "outputs": [
    {
     "data": {
      "application/vnd.plotly.v1+json": {
       "config": {
        "plotlyServerURL": "https://plot.ly"
       },
       "data": [
        {
         "marker": {
          "color": "#b00412",
          "opacity": 0.5,
          "size": 12
         },
         "mode": "markers",
         "name": "finance",
         "type": "scatter3d",
         "x": [
          0.34112927553076006,
          0.3326352264121871,
          0.2903594947555526,
          0.22687828891453335,
          0.25547217025131175,
          0.3315908292104339,
          0.25198569933477055,
          0.2708729184412709,
          0.32884412314597655,
          0.3152876435031841,
          0.2438012436460612,
          0.3113721974045179,
          0.25023586577030316,
          0.33230929301889217,
          0.25980282394100707,
          0.27417648078868945,
          0.2377360083308065,
          0.23926796467902414,
          0.2953527761904785,
          0.2831229741528978
         ],
         "y": [
          0.04398393936576726,
          0.04194019985135301,
          0.025478592571870837,
          0.004843296245037213,
          0.04220381071442619,
          0.01660574164283489,
          0.014034430132327937,
          0.021564160941849087,
          0.0677781168039125,
          0.007607310031680025,
          0.029232801192865483,
          0.023289553905835175,
          -0.012207481152751984,
          0.03218526618589916,
          0.032292138841399,
          -0.002394159719396982,
          -0.0045886387509782465,
          0.07077876070698086,
          0.029143663464302007,
          0.021256829472334385
         ],
         "z": [
          -0.01940915068994882,
          -0.055821521032715336,
          -0.027927631722455586,
          -0.047932410960793544,
          -0.06980332889115497,
          -0.04114245313581262,
          -0.028135464900992193,
          -0.05592487193798809,
          -0.032182105043575195,
          -0.01563410545080064,
          -0.02800107211950111,
          -0.0061238103077427206,
          0.0225439403351964,
          -0.02220073647587933,
          -0.05924810677803197,
          0.03390593679369769,
          -0.03595391586073751,
          -0.06303613221015758,
          -0.029069274158422535,
          -0.01917167660813691
         ]
        },
        {
         "marker": {
          "color": "#e85a02",
          "opacity": 0.5,
          "size": 12
         },
         "mode": "markers",
         "name": "animal",
         "type": "scatter3d",
         "x": [
          -0.10891325366300077,
          -0.13333024384572803,
          -0.12196998125744808,
          -0.0930196751475389,
          -0.11449168970370846,
          -0.1186812229031516,
          -0.0933360393089948,
          -0.07448551550375729,
          -0.12941486720118556,
          -0.08193872179195327,
          -0.13452511496715405,
          -0.11581850379411403,
          -0.1315069398706483,
          -0.09030300434102638,
          -0.15176021944665705,
          -0.11001942831704276,
          -0.14913363577835279,
          -0.11466075028178005,
          -0.1346453988592662,
          -0.14381035866230316
         ],
         "y": [
          -0.13055300691290778,
          -0.16139322468069003,
          -0.11704848471483598,
          -0.12085400484915126,
          -0.08769289627265126,
          -0.11254287977420793,
          -0.08012479372577863,
          0.010647089316352462,
          -0.06698638634034781,
          -0.09325155611041545,
          -0.06022114723774114,
          -0.0663393671824711,
          -0.03441109812731323,
          -0.07157924286450668,
          -0.12096652196143488,
          -0.11688964066764816,
          -0.08436077386045789,
          -0.10896402465179085,
          -0.043601718364392875,
          -0.08899989796160117
         ],
         "z": [
          -0.19014061496573875,
          -0.15102802289411787,
          -0.15847499336891804,
          -0.13152357400889417,
          -0.148518535914623,
          -0.17889588173602133,
          -0.19045903509653317,
          -0.14739114484742044,
          -0.19432179388339924,
          -0.18018594732336432,
          -0.1960520725118391,
          -0.1851088900262785,
          -0.11747014060262204,
          -0.16820460854990946,
          -0.16543527470130795,
          -0.17231570832495002,
          -0.23249667832897628,
          -0.14862342786075136,
          -0.19301169037699448,
          -0.18861682311774242
         ]
        },
        {
         "marker": {
          "color": "#00947b",
          "opacity": 0.5,
          "size": 12
         },
         "mode": "markers",
         "name": "sport",
         "type": "scatter3d",
         "x": [
          -0.02578511015620282,
          0.005820310172413004,
          -0.10132222275708182,
          -0.07862257229846793,
          -0.03539796662477716,
          -0.04425067712563667,
          -0.047148237018256954,
          -0.013384678310608356,
          -0.08881464737195005,
          -0.06349991847331739,
          -0.009202772078360719,
          -0.03701426148608367,
          -0.11224566500247621,
          -0.07924934859193218,
          -0.05636905233350134,
          -0.05587773626737812,
          0.017307468796013307,
          -0.060537212568645186,
          -0.015065795976116486,
          -0.03942244264914776
         ],
         "y": [
          -0.16769576801721853,
          -0.15218144691882102,
          -0.11216906377073838,
          -0.1017508646443816,
          -0.12898001407855653,
          -0.20412907074304895,
          -0.10263508585740075,
          -0.06284407013297547,
          -0.1557630198114203,
          -0.11580952660222207,
          -0.13314892015527408,
          -0.19440665536668478,
          -0.1557481046320744,
          -0.11514615109134248,
          -0.16843164465525057,
          -0.09024532401869353,
          -0.15597599740612314,
          -0.19912340213234034,
          -0.13369640196032168,
          -0.14568523266469316
         ],
         "z": [
          0.17895202743081473,
          0.1384994549958372,
          0.14174496050433652,
          0.15081681654373652,
          0.17353207324965966,
          0.21465899475551753,
          0.1357736709855313,
          0.0998378640494653,
          0.1237040793152986,
          0.12768239713083313,
          0.2427478845697769,
          0.15512859957654437,
          0.11851954624158127,
          0.17558305425983417,
          0.1912547909182677,
          0.1075517095054103,
          0.17277733455743238,
          0.14646990196769694,
          0.14359682700114154,
          0.24431112206633585
         ]
        },
        {
         "marker": {
          "color": "#00004d",
          "opacity": 0.5,
          "size": 12
         },
         "mode": "markers",
         "name": "food",
         "type": "scatter3d",
         "x": [
          -0.14653105529815258,
          -0.14726110855800895,
          -0.14427455711527942,
          -0.10447640909036056,
          -0.11738225189087964,
          -0.1290529303838186,
          -0.15401623782900634,
          -0.03589122662033871,
          -0.08689356024640363,
          -0.15586355838050947,
          -0.09391253279868883,
          -0.08996855062398194,
          -0.12868741301694062,
          -0.12087225466277213,
          -0.1488438557615983,
          -0.12919295152747462,
          -0.0761883010588935,
          -0.15029800800820828,
          -0.07605221457285888,
          -0.15072721721215773
         ],
         "y": [
          0.200127673872438,
          0.2329277814632583,
          0.21097259408074043,
          0.2180271189062259,
          0.19224278153242547,
          0.18269369241671862,
          0.23048786431626744,
          0.1506755436912713,
          0.20714969883096124,
          0.2451127197902629,
          0.24836800983537163,
          0.1900360008434567,
          0.13604002370473497,
          0.16804220160160682,
          0.190556770453926,
          0.20783630290630736,
          0.22452996297799357,
          0.21266434153839053,
          0.20458959259139334,
          0.1935903338022746
         ],
         "z": [
          0.04413204956472142,
          0.047758215784009676,
          0.04155796261021645,
          0.025139789764751664,
          0.06888204594747,
          0.06185345985003627,
          0.026491643723947748,
          0.053916186855127626,
          0.04833832974219517,
          0.03703848686898056,
          0.05213372916638457,
          0.09333238153555327,
          -0.004956081874708414,
          0.010616905475628744,
          0.0015915607765471804,
          0.07156284392579809,
          0.03878250634961196,
          0.07071931476262026,
          0.057837367536602624,
          0.008670941605807773
         ]
        }
       ],
       "layout": {
        "autosize": false,
        "font": {
         "family": " Courier New ",
         "size": 15
        },
        "height": 1000,
        "legend": {
         "font": {
          "color": "black",
          "family": "Courier New",
          "size": 25
         },
         "x": 1,
         "y": 0.5
        },
        "margin": {
         "b": 0,
         "l": 0,
         "r": 0,
         "t": 0
        },
        "scene": {
         "aspectmode": "auto",
         "aspectratio": {
          "x": 1.046117273916932,
          "y": 0.9524584261401638,
          "z": 1.0036299163639955
         },
         "camera": {
          "center": {
           "x": 0,
           "y": 0,
           "z": 0
          },
          "eye": {
           "x": -2.8961247137745745,
           "y": -1.053963135655835,
           "z": 1.674538261696852
          },
          "projection": {
           "type": "perspective"
          },
          "up": {
           "x": 0,
           "y": 0,
           "z": 1
          }
         }
        },
        "showlegend": true,
        "template": {
         "data": {
          "bar": [
           {
            "error_x": {
             "color": "#2a3f5f"
            },
            "error_y": {
             "color": "#2a3f5f"
            },
            "marker": {
             "line": {
              "color": "#E5ECF6",
              "width": 0.5
             },
             "pattern": {
              "fillmode": "overlay",
              "size": 10,
              "solidity": 0.2
             }
            },
            "type": "bar"
           }
          ],
          "barpolar": [
           {
            "marker": {
             "line": {
              "color": "#E5ECF6",
              "width": 0.5
             },
             "pattern": {
              "fillmode": "overlay",
              "size": 10,
              "solidity": 0.2
             }
            },
            "type": "barpolar"
           }
          ],
          "carpet": [
           {
            "aaxis": {
             "endlinecolor": "#2a3f5f",
             "gridcolor": "white",
             "linecolor": "white",
             "minorgridcolor": "white",
             "startlinecolor": "#2a3f5f"
            },
            "baxis": {
             "endlinecolor": "#2a3f5f",
             "gridcolor": "white",
             "linecolor": "white",
             "minorgridcolor": "white",
             "startlinecolor": "#2a3f5f"
            },
            "type": "carpet"
           }
          ],
          "choropleth": [
           {
            "colorbar": {
             "outlinewidth": 0,
             "ticks": ""
            },
            "type": "choropleth"
           }
          ],
          "contour": [
           {
            "colorbar": {
             "outlinewidth": 0,
             "ticks": ""
            },
            "colorscale": [
             [
              0,
              "#0d0887"
             ],
             [
              0.1111111111111111,
              "#46039f"
             ],
             [
              0.2222222222222222,
              "#7201a8"
             ],
             [
              0.3333333333333333,
              "#9c179e"
             ],
             [
              0.4444444444444444,
              "#bd3786"
             ],
             [
              0.5555555555555556,
              "#d8576b"
             ],
             [
              0.6666666666666666,
              "#ed7953"
             ],
             [
              0.7777777777777778,
              "#fb9f3a"
             ],
             [
              0.8888888888888888,
              "#fdca26"
             ],
             [
              1,
              "#f0f921"
             ]
            ],
            "type": "contour"
           }
          ],
          "contourcarpet": [
           {
            "colorbar": {
             "outlinewidth": 0,
             "ticks": ""
            },
            "type": "contourcarpet"
           }
          ],
          "heatmap": [
           {
            "colorbar": {
             "outlinewidth": 0,
             "ticks": ""
            },
            "colorscale": [
             [
              0,
              "#0d0887"
             ],
             [
              0.1111111111111111,
              "#46039f"
             ],
             [
              0.2222222222222222,
              "#7201a8"
             ],
             [
              0.3333333333333333,
              "#9c179e"
             ],
             [
              0.4444444444444444,
              "#bd3786"
             ],
             [
              0.5555555555555556,
              "#d8576b"
             ],
             [
              0.6666666666666666,
              "#ed7953"
             ],
             [
              0.7777777777777778,
              "#fb9f3a"
             ],
             [
              0.8888888888888888,
              "#fdca26"
             ],
             [
              1,
              "#f0f921"
             ]
            ],
            "type": "heatmap"
           }
          ],
          "heatmapgl": [
           {
            "colorbar": {
             "outlinewidth": 0,
             "ticks": ""
            },
            "colorscale": [
             [
              0,
              "#0d0887"
             ],
             [
              0.1111111111111111,
              "#46039f"
             ],
             [
              0.2222222222222222,
              "#7201a8"
             ],
             [
              0.3333333333333333,
              "#9c179e"
             ],
             [
              0.4444444444444444,
              "#bd3786"
             ],
             [
              0.5555555555555556,
              "#d8576b"
             ],
             [
              0.6666666666666666,
              "#ed7953"
             ],
             [
              0.7777777777777778,
              "#fb9f3a"
             ],
             [
              0.8888888888888888,
              "#fdca26"
             ],
             [
              1,
              "#f0f921"
             ]
            ],
            "type": "heatmapgl"
           }
          ],
          "histogram": [
           {
            "marker": {
             "pattern": {
              "fillmode": "overlay",
              "size": 10,
              "solidity": 0.2
             }
            },
            "type": "histogram"
           }
          ],
          "histogram2d": [
           {
            "colorbar": {
             "outlinewidth": 0,
             "ticks": ""
            },
            "colorscale": [
             [
              0,
              "#0d0887"
             ],
             [
              0.1111111111111111,
              "#46039f"
             ],
             [
              0.2222222222222222,
              "#7201a8"
             ],
             [
              0.3333333333333333,
              "#9c179e"
             ],
             [
              0.4444444444444444,
              "#bd3786"
             ],
             [
              0.5555555555555556,
              "#d8576b"
             ],
             [
              0.6666666666666666,
              "#ed7953"
             ],
             [
              0.7777777777777778,
              "#fb9f3a"
             ],
             [
              0.8888888888888888,
              "#fdca26"
             ],
             [
              1,
              "#f0f921"
             ]
            ],
            "type": "histogram2d"
           }
          ],
          "histogram2dcontour": [
           {
            "colorbar": {
             "outlinewidth": 0,
             "ticks": ""
            },
            "colorscale": [
             [
              0,
              "#0d0887"
             ],
             [
              0.1111111111111111,
              "#46039f"
             ],
             [
              0.2222222222222222,
              "#7201a8"
             ],
             [
              0.3333333333333333,
              "#9c179e"
             ],
             [
              0.4444444444444444,
              "#bd3786"
             ],
             [
              0.5555555555555556,
              "#d8576b"
             ],
             [
              0.6666666666666666,
              "#ed7953"
             ],
             [
              0.7777777777777778,
              "#fb9f3a"
             ],
             [
              0.8888888888888888,
              "#fdca26"
             ],
             [
              1,
              "#f0f921"
             ]
            ],
            "type": "histogram2dcontour"
           }
          ],
          "mesh3d": [
           {
            "colorbar": {
             "outlinewidth": 0,
             "ticks": ""
            },
            "type": "mesh3d"
           }
          ],
          "parcoords": [
           {
            "line": {
             "colorbar": {
              "outlinewidth": 0,
              "ticks": ""
             }
            },
            "type": "parcoords"
           }
          ],
          "pie": [
           {
            "automargin": true,
            "type": "pie"
           }
          ],
          "scatter": [
           {
            "fillpattern": {
             "fillmode": "overlay",
             "size": 10,
             "solidity": 0.2
            },
            "type": "scatter"
           }
          ],
          "scatter3d": [
           {
            "line": {
             "colorbar": {
              "outlinewidth": 0,
              "ticks": ""
             }
            },
            "marker": {
             "colorbar": {
              "outlinewidth": 0,
              "ticks": ""
             }
            },
            "type": "scatter3d"
           }
          ],
          "scattercarpet": [
           {
            "marker": {
             "colorbar": {
              "outlinewidth": 0,
              "ticks": ""
             }
            },
            "type": "scattercarpet"
           }
          ],
          "scattergeo": [
           {
            "marker": {
             "colorbar": {
              "outlinewidth": 0,
              "ticks": ""
             }
            },
            "type": "scattergeo"
           }
          ],
          "scattergl": [
           {
            "marker": {
             "colorbar": {
              "outlinewidth": 0,
              "ticks": ""
             }
            },
            "type": "scattergl"
           }
          ],
          "scattermapbox": [
           {
            "marker": {
             "colorbar": {
              "outlinewidth": 0,
              "ticks": ""
             }
            },
            "type": "scattermapbox"
           }
          ],
          "scatterpolar": [
           {
            "marker": {
             "colorbar": {
              "outlinewidth": 0,
              "ticks": ""
             }
            },
            "type": "scatterpolar"
           }
          ],
          "scatterpolargl": [
           {
            "marker": {
             "colorbar": {
              "outlinewidth": 0,
              "ticks": ""
             }
            },
            "type": "scatterpolargl"
           }
          ],
          "scatterternary": [
           {
            "marker": {
             "colorbar": {
              "outlinewidth": 0,
              "ticks": ""
             }
            },
            "type": "scatterternary"
           }
          ],
          "surface": [
           {
            "colorbar": {
             "outlinewidth": 0,
             "ticks": ""
            },
            "colorscale": [
             [
              0,
              "#0d0887"
             ],
             [
              0.1111111111111111,
              "#46039f"
             ],
             [
              0.2222222222222222,
              "#7201a8"
             ],
             [
              0.3333333333333333,
              "#9c179e"
             ],
             [
              0.4444444444444444,
              "#bd3786"
             ],
             [
              0.5555555555555556,
              "#d8576b"
             ],
             [
              0.6666666666666666,
              "#ed7953"
             ],
             [
              0.7777777777777778,
              "#fb9f3a"
             ],
             [
              0.8888888888888888,
              "#fdca26"
             ],
             [
              1,
              "#f0f921"
             ]
            ],
            "type": "surface"
           }
          ],
          "table": [
           {
            "cells": {
             "fill": {
              "color": "#EBF0F8"
             },
             "line": {
              "color": "white"
             }
            },
            "header": {
             "fill": {
              "color": "#C8D4E3"
             },
             "line": {
              "color": "white"
             }
            },
            "type": "table"
           }
          ]
         },
         "layout": {
          "annotationdefaults": {
           "arrowcolor": "#2a3f5f",
           "arrowhead": 0,
           "arrowwidth": 1
          },
          "autotypenumbers": "strict",
          "coloraxis": {
           "colorbar": {
            "outlinewidth": 0,
            "ticks": ""
           }
          },
          "colorscale": {
           "diverging": [
            [
             0,
             "#8e0152"
            ],
            [
             0.1,
             "#c51b7d"
            ],
            [
             0.2,
             "#de77ae"
            ],
            [
             0.3,
             "#f1b6da"
            ],
            [
             0.4,
             "#fde0ef"
            ],
            [
             0.5,
             "#f7f7f7"
            ],
            [
             0.6,
             "#e6f5d0"
            ],
            [
             0.7,
             "#b8e186"
            ],
            [
             0.8,
             "#7fbc41"
            ],
            [
             0.9,
             "#4d9221"
            ],
            [
             1,
             "#276419"
            ]
           ],
           "sequential": [
            [
             0,
             "#0d0887"
            ],
            [
             0.1111111111111111,
             "#46039f"
            ],
            [
             0.2222222222222222,
             "#7201a8"
            ],
            [
             0.3333333333333333,
             "#9c179e"
            ],
            [
             0.4444444444444444,
             "#bd3786"
            ],
            [
             0.5555555555555556,
             "#d8576b"
            ],
            [
             0.6666666666666666,
             "#ed7953"
            ],
            [
             0.7777777777777778,
             "#fb9f3a"
            ],
            [
             0.8888888888888888,
             "#fdca26"
            ],
            [
             1,
             "#f0f921"
            ]
           ],
           "sequentialminus": [
            [
             0,
             "#0d0887"
            ],
            [
             0.1111111111111111,
             "#46039f"
            ],
            [
             0.2222222222222222,
             "#7201a8"
            ],
            [
             0.3333333333333333,
             "#9c179e"
            ],
            [
             0.4444444444444444,
             "#bd3786"
            ],
            [
             0.5555555555555556,
             "#d8576b"
            ],
            [
             0.6666666666666666,
             "#ed7953"
            ],
            [
             0.7777777777777778,
             "#fb9f3a"
            ],
            [
             0.8888888888888888,
             "#fdca26"
            ],
            [
             1,
             "#f0f921"
            ]
           ]
          },
          "colorway": [
           "#636efa",
           "#EF553B",
           "#00cc96",
           "#ab63fa",
           "#FFA15A",
           "#19d3f3",
           "#FF6692",
           "#B6E880",
           "#FF97FF",
           "#FECB52"
          ],
          "font": {
           "color": "#2a3f5f"
          },
          "geo": {
           "bgcolor": "white",
           "lakecolor": "white",
           "landcolor": "#E5ECF6",
           "showlakes": true,
           "showland": true,
           "subunitcolor": "white"
          },
          "hoverlabel": {
           "align": "left"
          },
          "hovermode": "closest",
          "mapbox": {
           "style": "light"
          },
          "paper_bgcolor": "white",
          "plot_bgcolor": "#E5ECF6",
          "polar": {
           "angularaxis": {
            "gridcolor": "white",
            "linecolor": "white",
            "ticks": ""
           },
           "bgcolor": "#E5ECF6",
           "radialaxis": {
            "gridcolor": "white",
            "linecolor": "white",
            "ticks": ""
           }
          },
          "scene": {
           "xaxis": {
            "backgroundcolor": "#E5ECF6",
            "gridcolor": "white",
            "gridwidth": 2,
            "linecolor": "white",
            "showbackground": true,
            "ticks": "",
            "zerolinecolor": "white"
           },
           "yaxis": {
            "backgroundcolor": "#E5ECF6",
            "gridcolor": "white",
            "gridwidth": 2,
            "linecolor": "white",
            "showbackground": true,
            "ticks": "",
            "zerolinecolor": "white"
           },
           "zaxis": {
            "backgroundcolor": "#E5ECF6",
            "gridcolor": "white",
            "gridwidth": 2,
            "linecolor": "white",
            "showbackground": true,
            "ticks": "",
            "zerolinecolor": "white"
           }
          },
          "shapedefaults": {
           "line": {
            "color": "#2a3f5f"
           }
          },
          "ternary": {
           "aaxis": {
            "gridcolor": "white",
            "linecolor": "white",
            "ticks": ""
           },
           "baxis": {
            "gridcolor": "white",
            "linecolor": "white",
            "ticks": ""
           },
           "bgcolor": "#E5ECF6",
           "caxis": {
            "gridcolor": "white",
            "linecolor": "white",
            "ticks": ""
           }
          },
          "title": {
           "x": 0.05
          },
          "xaxis": {
           "automargin": true,
           "gridcolor": "white",
           "linecolor": "white",
           "ticks": "",
           "title": {
            "standoff": 15
           },
           "zerolinecolor": "white",
           "zerolinewidth": 2
          },
          "yaxis": {
           "automargin": true,
           "gridcolor": "white",
           "linecolor": "white",
           "ticks": "",
           "title": {
            "standoff": 15
           },
           "zerolinecolor": "white",
           "zerolinewidth": 2
          }
         }
        },
        "width": 1000
       }
      },
      "image/png": "[encoded data removed]",
      "text/html": [
       "<div>                            <div id=\"3f9859a3-53b2-4fab-8309-9805b2ea508b\" class=\"plotly-graph-div\" style=\"height:1000px; width:1000px;\"></div>            <script type=\"text/javascript\">                require([\"plotly\"], function(Plotly) {                    window.PLOTLYENV=window.PLOTLYENV || {};                                    if (document.getElementById(\"3f9859a3-53b2-4fab-8309-9805b2ea508b\")) {                    Plotly.newPlot(                        \"3f9859a3-53b2-4fab-8309-9805b2ea508b\",                        [{\"marker\":{\"color\":\"#b00412\",\"opacity\":0.5,\"size\":12},\"mode\":\"markers\",\"name\":\"finance\",\"x\":[0.34112927553076006,0.3326352264121871,0.2903594947555526,0.22687828891453335,0.25547217025131175,0.3315908292104339,0.25198569933477055,0.2708729184412709,0.32884412314597655,0.3152876435031841,0.2438012436460612,0.3113721974045179,0.25023586577030316,0.33230929301889217,0.25980282394100707,0.27417648078868945,0.2377360083308065,0.23926796467902414,0.2953527761904785,0.2831229741528978],\"y\":[0.04398393936576726,0.04194019985135301,0.025478592571870837,0.004843296245037213,0.04220381071442619,0.01660574164283489,0.014034430132327937,0.021564160941849087,0.0677781168039125,0.007607310031680025,0.029232801192865483,0.023289553905835175,-0.012207481152751984,0.03218526618589916,0.032292138841399,-0.002394159719396982,-0.0045886387509782465,0.07077876070698086,0.029143663464302007,0.021256829472334385],\"z\":[-0.01940915068994882,-0.055821521032715336,-0.027927631722455586,-0.047932410960793544,-0.06980332889115497,-0.04114245313581262,-0.028135464900992193,-0.05592487193798809,-0.032182105043575195,-0.01563410545080064,-0.02800107211950111,-0.0061238103077427206,0.0225439403351964,-0.02220073647587933,-0.05924810677803197,0.03390593679369769,-0.03595391586073751,-0.06303613221015758,-0.029069274158422535,-0.01917167660813691],\"type\":\"scatter3d\"},{\"marker\":{\"color\":\"#e85a02\",\"opacity\":0.5,\"size\":12},\"mode\":\"markers\",\"name\":\"animal\",\"x\":[-0.10891325366300077,-0.13333024384572803,-0.12196998125744808,-0.0930196751475389,-0.11449168970370846,-0.1186812229031516,-0.0933360393089948,-0.07448551550375729,-0.12941486720118556,-0.08193872179195327,-0.13452511496715405,-0.11581850379411403,-0.1315069398706483,-0.09030300434102638,-0.15176021944665705,-0.11001942831704276,-0.14913363577835279,-0.11466075028178005,-0.1346453988592662,-0.14381035866230316],\"y\":[-0.13055300691290778,-0.16139322468069003,-0.11704848471483598,-0.12085400484915126,-0.08769289627265126,-0.11254287977420793,-0.08012479372577863,0.010647089316352462,-0.06698638634034781,-0.09325155611041545,-0.06022114723774114,-0.0663393671824711,-0.03441109812731323,-0.07157924286450668,-0.12096652196143488,-0.11688964066764816,-0.08436077386045789,-0.10896402465179085,-0.043601718364392875,-0.08899989796160117],\"z\":[-0.19014061496573875,-0.15102802289411787,-0.15847499336891804,-0.13152357400889417,-0.148518535914623,-0.17889588173602133,-0.19045903509653317,-0.14739114484742044,-0.19432179388339924,-0.18018594732336432,-0.1960520725118391,-0.1851088900262785,-0.11747014060262204,-0.16820460854990946,-0.16543527470130795,-0.17231570832495002,-0.23249667832897628,-0.14862342786075136,-0.19301169037699448,-0.18861682311774242],\"type\":\"scatter3d\"},{\"marker\":{\"color\":\"#00947b\",\"opacity\":0.5,\"size\":12},\"mode\":\"markers\",\"name\":\"sport\",\"x\":[-0.02578511015620282,0.005820310172413004,-0.10132222275708182,-0.07862257229846793,-0.03539796662477716,-0.04425067712563667,-0.047148237018256954,-0.013384678310608356,-0.08881464737195005,-0.06349991847331739,-0.009202772078360719,-0.03701426148608367,-0.11224566500247621,-0.07924934859193218,-0.05636905233350134,-0.05587773626737812,0.017307468796013307,-0.060537212568645186,-0.015065795976116486,-0.03942244264914776],\"y\":[-0.16769576801721853,-0.15218144691882102,-0.11216906377073838,-0.1017508646443816,-0.12898001407855653,-0.20412907074304895,-0.10263508585740075,-0.06284407013297547,-0.1557630198114203,-0.11580952660222207,-0.13314892015527408,-0.19440665536668478,-0.1557481046320744,-0.11514615109134248,-0.16843164465525057,-0.09024532401869353,-0.15597599740612314,-0.19912340213234034,-0.13369640196032168,-0.14568523266469316],\"z\":[0.17895202743081473,0.1384994549958372,0.14174496050433652,0.15081681654373652,0.17353207324965966,0.21465899475551753,0.1357736709855313,0.0998378640494653,0.1237040793152986,0.12768239713083313,0.2427478845697769,0.15512859957654437,0.11851954624158127,0.17558305425983417,0.1912547909182677,0.1075517095054103,0.17277733455743238,0.14646990196769694,0.14359682700114154,0.24431112206633585],\"type\":\"scatter3d\"},{\"marker\":{\"color\":\"#00004d\",\"opacity\":0.5,\"size\":12},\"mode\":\"markers\",\"name\":\"food\",\"x\":[-0.14653105529815258,-0.14726110855800895,-0.14427455711527942,-0.10447640909036056,-0.11738225189087964,-0.1290529303838186,-0.15401623782900634,-0.03589122662033871,-0.08689356024640363,-0.15586355838050947,-0.09391253279868883,-0.08996855062398194,-0.12868741301694062,-0.12087225466277213,-0.1488438557615983,-0.12919295152747462,-0.0761883010588935,-0.15029800800820828,-0.07605221457285888,-0.15072721721215773],\"y\":[0.200127673872438,0.2329277814632583,0.21097259408074043,0.2180271189062259,0.19224278153242547,0.18269369241671862,0.23048786431626744,0.1506755436912713,0.20714969883096124,0.2451127197902629,0.24836800983537163,0.1900360008434567,0.13604002370473497,0.16804220160160682,0.190556770453926,0.20783630290630736,0.22452996297799357,0.21266434153839053,0.20458959259139334,0.1935903338022746],\"z\":[0.04413204956472142,0.047758215784009676,0.04155796261021645,0.025139789764751664,0.06888204594747,0.06185345985003627,0.026491643723947748,0.053916186855127626,0.04833832974219517,0.03703848686898056,0.05213372916638457,0.09333238153555327,-0.004956081874708414,0.010616905475628744,0.0015915607765471804,0.07156284392579809,0.03878250634961196,0.07071931476262026,0.057837367536602624,0.008670941605807773],\"type\":\"scatter3d\"}],                        {\"autosize\":false,\"font\":{\"family\":\" Courier New \",\"size\":15},\"height\":1000,\"legend\":{\"font\":{\"color\":\"black\",\"family\":\"Courier New\",\"size\":25},\"x\":1,\"y\":0.5},\"margin\":{\"b\":0,\"l\":0,\"r\":0,\"t\":0},\"showlegend\":true,\"width\":1000,\"template\":{\"data\":{\"histogram2dcontour\":[{\"type\":\"histogram2dcontour\",\"colorbar\":{\"outlinewidth\":0,\"ticks\":\"\"},\"colorscale\":[[0.0,\"#0d0887\"],[0.1111111111111111,\"#46039f\"],[0.2222222222222222,\"#7201a8\"],[0.3333333333333333,\"#9c179e\"],[0.4444444444444444,\"#bd3786\"],[0.5555555555555556,\"#d8576b\"],[0.6666666666666666,\"#ed7953\"],[0.7777777777777778,\"#fb9f3a\"],[0.8888888888888888,\"#fdca26\"],[1.0,\"#f0f921\"]]}],\"choropleth\":[{\"type\":\"choropleth\",\"colorbar\":{\"outlinewidth\":0,\"ticks\":\"\"}}],\"histogram2d\":[{\"type\":\"histogram2d\",\"colorbar\":{\"outlinewidth\":0,\"ticks\":\"\"},\"colorscale\":[[0.0,\"#0d0887\"],[0.1111111111111111,\"#46039f\"],[0.2222222222222222,\"#7201a8\"],[0.3333333333333333,\"#9c179e\"],[0.4444444444444444,\"#bd3786\"],[0.5555555555555556,\"#d8576b\"],[0.6666666666666666,\"#ed7953\"],[0.7777777777777778,\"#fb9f3a\"],[0.8888888888888888,\"#fdca26\"],[1.0,\"#f0f921\"]]}],\"heatmap\":[{\"type\":\"heatmap\",\"colorbar\":{\"outlinewidth\":0,\"ticks\":\"\"},\"colorscale\":[[0.0,\"#0d0887\"],[0.1111111111111111,\"#46039f\"],[0.2222222222222222,\"#7201a8\"],[0.3333333333333333,\"#9c179e\"],[0.4444444444444444,\"#bd3786\"],[0.5555555555555556,\"#d8576b\"],[0.6666666666666666,\"#ed7953\"],[0.7777777777777778,\"#fb9f3a\"],[0.8888888888888888,\"#fdca26\"],[1.0,\"#f0f921\"]]}],\"heatmapgl\":[{\"type\":\"heatmapgl\",\"colorbar\":{\"outlinewidth\":0,\"ticks\":\"\"},\"colorscale\":[[0.0,\"#0d0887\"],[0.1111111111111111,\"#46039f\"],[0.2222222222222222,\"#7201a8\"],[0.3333333333333333,\"#9c179e\"],[0.4444444444444444,\"#bd3786\"],[0.5555555555555556,\"#d8576b\"],[0.6666666666666666,\"#ed7953\"],[0.7777777777777778,\"#fb9f3a\"],[0.8888888888888888,\"#fdca26\"],[1.0,\"#f0f921\"]]}],\"contourcarpet\":[{\"type\":\"contourcarpet\",\"colorbar\":{\"outlinewidth\":0,\"ticks\":\"\"}}],\"contour\":[{\"type\":\"contour\",\"colorbar\":{\"outlinewidth\":0,\"ticks\":\"\"},\"colorscale\":[[0.0,\"#0d0887\"],[0.1111111111111111,\"#46039f\"],[0.2222222222222222,\"#7201a8\"],[0.3333333333333333,\"#9c179e\"],[0.4444444444444444,\"#bd3786\"],[0.5555555555555556,\"#d8576b\"],[0.6666666666666666,\"#ed7953\"],[0.7777777777777778,\"#fb9f3a\"],[0.8888888888888888,\"#fdca26\"],[1.0,\"#f0f921\"]]}],\"surface\":[{\"type\":\"surface\",\"colorbar\":{\"outlinewidth\":0,\"ticks\":\"\"},\"colorscale\":[[0.0,\"#0d0887\"],[0.1111111111111111,\"#46039f\"],[0.2222222222222222,\"#7201a8\"],[0.3333333333333333,\"#9c179e\"],[0.4444444444444444,\"#bd3786\"],[0.5555555555555556,\"#d8576b\"],[0.6666666666666666,\"#ed7953\"],[0.7777777777777778,\"#fb9f3a\"],[0.8888888888888888,\"#fdca26\"],[1.0,\"#f0f921\"]]}],\"mesh3d\":[{\"type\":\"mesh3d\",\"colorbar\":{\"outlinewidth\":0,\"ticks\":\"\"}}],\"scatter\":[{\"fillpattern\":{\"fillmode\":\"overlay\",\"size\":10,\"solidity\":0.2},\"type\":\"scatter\"}],\"parcoords\":[{\"type\":\"parcoords\",\"line\":{\"colorbar\":{\"outlinewidth\":0,\"ticks\":\"\"}}}],\"scatterpolargl\":[{\"type\":\"scatterpolargl\",\"marker\":{\"colorbar\":{\"outlinewidth\":0,\"ticks\":\"\"}}}],\"bar\":[{\"error_x\":{\"color\":\"#2a3f5f\"},\"error_y\":{\"color\":\"#2a3f5f\"},\"marker\":{\"line\":{\"color\":\"#E5ECF6\",\"width\":0.5},\"pattern\":{\"fillmode\":\"overlay\",\"size\":10,\"solidity\":0.2}},\"type\":\"bar\"}],\"scattergeo\":[{\"type\":\"scattergeo\",\"marker\":{\"colorbar\":{\"outlinewidth\":0,\"ticks\":\"\"}}}],\"scatterpolar\":[{\"type\":\"scatterpolar\",\"marker\":{\"colorbar\":{\"outlinewidth\":0,\"ticks\":\"\"}}}],\"histogram\":[{\"marker\":{\"pattern\":{\"fillmode\":\"overlay\",\"size\":10,\"solidity\":0.2}},\"type\":\"histogram\"}],\"scattergl\":[{\"type\":\"scattergl\",\"marker\":{\"colorbar\":{\"outlinewidth\":0,\"ticks\":\"\"}}}],\"scatter3d\":[{\"type\":\"scatter3d\",\"line\":{\"colorbar\":{\"outlinewidth\":0,\"ticks\":\"\"}},\"marker\":{\"colorbar\":{\"outlinewidth\":0,\"ticks\":\"\"}}}],\"scattermapbox\":[{\"type\":\"scattermapbox\",\"marker\":{\"colorbar\":{\"outlinewidth\":0,\"ticks\":\"\"}}}],\"scatterternary\":[{\"type\":\"scatterternary\",\"marker\":{\"colorbar\":{\"outlinewidth\":0,\"ticks\":\"\"}}}],\"scattercarpet\":[{\"type\":\"scattercarpet\",\"marker\":{\"colorbar\":{\"outlinewidth\":0,\"ticks\":\"\"}}}],\"carpet\":[{\"aaxis\":{\"endlinecolor\":\"#2a3f5f\",\"gridcolor\":\"white\",\"linecolor\":\"white\",\"minorgridcolor\":\"white\",\"startlinecolor\":\"#2a3f5f\"},\"baxis\":{\"endlinecolor\":\"#2a3f5f\",\"gridcolor\":\"white\",\"linecolor\":\"white\",\"minorgridcolor\":\"white\",\"startlinecolor\":\"#2a3f5f\"},\"type\":\"carpet\"}],\"table\":[{\"cells\":{\"fill\":{\"color\":\"#EBF0F8\"},\"line\":{\"color\":\"white\"}},\"header\":{\"fill\":{\"color\":\"#C8D4E3\"},\"line\":{\"color\":\"white\"}},\"type\":\"table\"}],\"barpolar\":[{\"marker\":{\"line\":{\"color\":\"#E5ECF6\",\"width\":0.5},\"pattern\":{\"fillmode\":\"overlay\",\"size\":10,\"solidity\":0.2}},\"type\":\"barpolar\"}],\"pie\":[{\"automargin\":true,\"type\":\"pie\"}]},\"layout\":{\"autotypenumbers\":\"strict\",\"colorway\":[\"#636efa\",\"#EF553B\",\"#00cc96\",\"#ab63fa\",\"#FFA15A\",\"#19d3f3\",\"#FF6692\",\"#B6E880\",\"#FF97FF\",\"#FECB52\"],\"font\":{\"color\":\"#2a3f5f\"},\"hovermode\":\"closest\",\"hoverlabel\":{\"align\":\"left\"},\"paper_bgcolor\":\"white\",\"plot_bgcolor\":\"#E5ECF6\",\"polar\":{\"bgcolor\":\"#E5ECF6\",\"angularaxis\":{\"gridcolor\":\"white\",\"linecolor\":\"white\",\"ticks\":\"\"},\"radialaxis\":{\"gridcolor\":\"white\",\"linecolor\":\"white\",\"ticks\":\"\"}},\"ternary\":{\"bgcolor\":\"#E5ECF6\",\"aaxis\":{\"gridcolor\":\"white\",\"linecolor\":\"white\",\"ticks\":\"\"},\"baxis\":{\"gridcolor\":\"white\",\"linecolor\":\"white\",\"ticks\":\"\"},\"caxis\":{\"gridcolor\":\"white\",\"linecolor\":\"white\",\"ticks\":\"\"}},\"coloraxis\":{\"colorbar\":{\"outlinewidth\":0,\"ticks\":\"\"}},\"colorscale\":{\"sequential\":[[0.0,\"#0d0887\"],[0.1111111111111111,\"#46039f\"],[0.2222222222222222,\"#7201a8\"],[0.3333333333333333,\"#9c179e\"],[0.4444444444444444,\"#bd3786\"],[0.5555555555555556,\"#d8576b\"],[0.6666666666666666,\"#ed7953\"],[0.7777777777777778,\"#fb9f3a\"],[0.8888888888888888,\"#fdca26\"],[1.0,\"#f0f921\"]],\"sequentialminus\":[[0.0,\"#0d0887\"],[0.1111111111111111,\"#46039f\"],[0.2222222222222222,\"#7201a8\"],[0.3333333333333333,\"#9c179e\"],[0.4444444444444444,\"#bd3786\"],[0.5555555555555556,\"#d8576b\"],[0.6666666666666666,\"#ed7953\"],[0.7777777777777778,\"#fb9f3a\"],[0.8888888888888888,\"#fdca26\"],[1.0,\"#f0f921\"]],\"diverging\":[[0,\"#8e0152\"],[0.1,\"#c51b7d\"],[0.2,\"#de77ae\"],[0.3,\"#f1b6da\"],[0.4,\"#fde0ef\"],[0.5,\"#f7f7f7\"],[0.6,\"#e6f5d0\"],[0.7,\"#b8e186\"],[0.8,\"#7fbc41\"],[0.9,\"#4d9221\"],[1,\"#276419\"]]},\"xaxis\":{\"gridcolor\":\"white\",\"linecolor\":\"white\",\"ticks\":\"\",\"title\":{\"standoff\":15},\"zerolinecolor\":\"white\",\"automargin\":true,\"zerolinewidth\":2},\"yaxis\":{\"gridcolor\":\"white\",\"linecolor\":\"white\",\"ticks\":\"\",\"title\":{\"standoff\":15},\"zerolinecolor\":\"white\",\"automargin\":true,\"zerolinewidth\":2},\"scene\":{\"xaxis\":{\"backgroundcolor\":\"#E5ECF6\",\"gridcolor\":\"white\",\"linecolor\":\"white\",\"showbackground\":true,\"ticks\":\"\",\"zerolinecolor\":\"white\",\"gridwidth\":2},\"yaxis\":{\"backgroundcolor\":\"#E5ECF6\",\"gridcolor\":\"white\",\"linecolor\":\"white\",\"showbackground\":true,\"ticks\":\"\",\"zerolinecolor\":\"white\",\"gridwidth\":2},\"zaxis\":{\"backgroundcolor\":\"#E5ECF6\",\"gridcolor\":\"white\",\"linecolor\":\"white\",\"showbackground\":true,\"ticks\":\"\",\"zerolinecolor\":\"white\",\"gridwidth\":2}},\"shapedefaults\":{\"line\":{\"color\":\"#2a3f5f\"}},\"annotationdefaults\":{\"arrowcolor\":\"#2a3f5f\",\"arrowhead\":0,\"arrowwidth\":1},\"geo\":{\"bgcolor\":\"white\",\"landcolor\":\"#E5ECF6\",\"subunitcolor\":\"white\",\"showland\":true,\"showlakes\":true,\"lakecolor\":\"white\"},\"title\":{\"x\":0.05},\"mapbox\":{\"style\":\"light\"}}}},                        {\"responsive\": true}                    ).then(function(){\n",
       "                            \n",
       "var gd = document.getElementById('3f9859a3-53b2-4fab-8309-9805b2ea508b');\n",
       "var x = new MutationObserver(function (mutations, observer) {{\n",
       "        var display = window.getComputedStyle(gd).display;\n",
       "        if (!display || display === 'none') {{\n",
       "            console.log([gd, 'removed!']);\n",
       "            Plotly.purge(gd);\n",
       "            observer.disconnect();\n",
       "        }}\n",
       "}});\n",
       "\n",
       "// Listen for the removal of the full notebook cells\n",
       "var notebookContainer = gd.closest('#notebook-container');\n",
       "if (notebookContainer) {{\n",
       "    x.observe(notebookContainer, {childList: true});\n",
       "}}\n",
       "\n",
       "// Listen for the clearing of the current output cell\n",
       "var outputEl = gd.closest('.output');\n",
       "if (outputEl) {{\n",
       "    x.observe(outputEl, {childList: true});\n",
       "}}\n",
       "\n",
       "                        })                };                });            </script>        </div>"
      ]
     },
     "metadata": {},
     "output_type": "display_data"
    }
   ],
   "source": [
    "trace1 = go.Scatter3d(\n",
    "    x=three_dim_embeddings[:20].T[0], \n",
    "    y=three_dim_embeddings[:20].T[1], \n",
    "    z=three_dim_embeddings[:20].T[2],\n",
    "    name='finance',\n",
    "    mode='markers',\n",
    "    marker=dict(\n",
    "        size=12,\n",
    "        color='#b00412',\n",
    "        opacity=0.5)\n",
    ")\n",
    "trace2 = go.Scatter3d(\n",
    "    x=three_dim_embeddings[20:40].T[0], \n",
    "    y=three_dim_embeddings[20:40].T[1], \n",
    "    z=three_dim_embeddings[20:40].T[2],\n",
    "    name='animal',\n",
    "    mode='markers',\n",
    "    marker=dict(\n",
    "        size=12,\n",
    "        color='#e85a02',\n",
    "        opacity=0.5)\n",
    "    \n",
    ")\n",
    "trace3 = go.Scatter3d(\n",
    "    x=three_dim_embeddings[40:60].T[0], \n",
    "    y=three_dim_embeddings[40:60].T[1], \n",
    "    z=three_dim_embeddings[40:60].T[2],\n",
    "    name='sport',\n",
    "    mode='markers',\n",
    "    marker=dict(\n",
    "        size=12,\n",
    "        color='#00947b',\n",
    "        opacity=0.5)\n",
    ")\n",
    "trace4 = go.Scatter3d(\n",
    "    x=three_dim_embeddings[60:80].T[0], \n",
    "    y=three_dim_embeddings[60:80].T[1], \n",
    "    z=three_dim_embeddings[60:80].T[2],\n",
    "    name='food',\n",
    "    mode='markers',\n",
    "    marker=dict(\n",
    "        size=12,\n",
    "        color='#00004d',\n",
    "        opacity=0.5)\n",
    ")\n",
    "data = [trace1, trace2, trace3, trace4]\n",
    " \n",
    "layout = go.Layout(\n",
    "    margin = {'l': 0, 'r': 0, 'b': 0, 't': 0},\n",
    "    showlegend = True,\n",
    "    legend = dict(\n",
    "        x = 1,\n",
    "        y = 0.5,\n",
    "        font = dict(\n",
    "            family = \"Courier New\",\n",
    "            size = 25,\n",
    "            color = \"black\")),\n",
    "    font = dict(\n",
    "        family = \" Courier New \",\n",
    "        size = 15),\n",
    "    autosize = False,\n",
    "    width = 1000,\n",
    "    height = 1000\n",
    ")\n",
    "\n",
    "fig = go.Figure(data=data, layout=layout)\n",
    "\n",
    "fig.show()"
   ]
  },
  {
   "cell_type": "markdown",
   "id": "8498c57c-2959-4fc3-840f-10bafeb64ed7",
   "metadata": {
    "jp-MarkdownHeadingCollapsed": true
   },
   "source": [
    "# Visualize the embeddings high dimensional"
   ]
  },
  {
   "cell_type": "code",
   "execution_count": 15,
   "id": "69bcc797-4bb8-425b-a22f-6ac780e24b4e",
   "metadata": {},
   "outputs": [
    {
     "name": "stdout",
     "output_type": "stream",
     "text": [
      "Shape: (80, 10)\n"
     ]
    },
    {
     "data": {
      "text/plain": [
       "array([[ 0.34112917,  0.04396972, -0.0193556 , -0.04074227, -0.03811587,\n",
       "         0.02461987,  0.05830539, -0.04123463,  0.00687762,  0.03061564],\n",
       "       [ 0.33263473,  0.04194819, -0.05583184,  0.02477013, -0.03857199,\n",
       "        -0.00175309, -0.01167556,  0.07384704, -0.07085543, -0.02237246],\n",
       "       [ 0.29036067,  0.0255196 , -0.02792706, -0.02195358,  0.02820292,\n",
       "        -0.01586628, -0.00661595,  0.04922789, -0.01460439, -0.01622239],\n",
       "       [ 0.22687634,  0.00476349, -0.04789546,  0.00482084,  0.05537189,\n",
       "         0.03436429,  0.00097942, -0.04733679,  0.0865835 , -0.0084341 ],\n",
       "       [ 0.25547435,  0.04219393, -0.06976832, -0.01800144,  0.08928028,\n",
       "        -0.06522512, -0.08492821,  0.04396356,  0.01309711,  0.04502273]])"
      ]
     },
     "execution_count": 15,
     "metadata": {},
     "output_type": "execute_result"
    }
   ],
   "source": [
    "ten_dim_embeddings = PCA(random_state=0, n_components=10).fit_transform(embeddings)\n",
    "print('Shape:', ten_dim_embeddings.shape)\n",
    "ten_dim_embeddings[:5]"
   ]
  },
  {
   "cell_type": "code",
   "execution_count": 44,
   "id": "95cb6156-e87d-4a94-8594-3a754c273871",
   "metadata": {},
   "outputs": [
    {
     "data": {
      "image/png": "[encoded data removed]",
      "text/plain": [
       "<Figure size 2000x1000 with 1 Axes>"
      ]
     },
     "metadata": {},
     "output_type": "display_data"
    }
   ],
   "source": [
    "plt.style.use('dark_background')\n",
    "\n",
    "fig, ax = plt.subplots(figsize=(20, 10))\n",
    "ax.pcolormesh(ten_dim_embeddings, cmap='ocean')\n",
    "#ax.set_frame_on(True) # remove all spines\n",
    "# ax.set_xticklabels([1, 2, 3, 4, 5, 6, 7, 8, 9, 10])\n",
    "# ax.set_yticklabels([])\n",
    "ax.set_xticks([.5, 1.5, 2.5, 3.5, 4.5, 5.5, 6.5, 7.5, 8.5, 9.5], labels=['dim 1', 'dim 2', 'dim 3', 'dim 4', 'dim 5', 'dim 6', 'dim 7', 'dim 8', 'dim 9', 'dim 10'])\n",
    "ax.set_yticks([10, 30, 50, 70], labels=['finance', 'animal', 'sport', 'food'], rotation=90)\n",
    "\n",
    "ax.spines[['top', 'right', 'bottom', 'left']].set_visible(False)\n",
    "ax.tick_params(bottom = False, left = False)\n",
    "\n",
    "# ax.set_title('Embedding vectors visualization | 10 dimensions', fontweight =\"bold\")\n",
    "plt.show()"
   ]
  }
 ],
 "metadata": {
  "kernelspec": {
   "display_name": "Python 3 (ipykernel)",
   "language": "python",
   "name": "python3"
  },
  "language_info": {
   "codemirror_mode": {
    "name": "ipython",
    "version": 3
   },
   "file_extension": ".py",
   "mimetype": "text/x-python",
   "name": "python",
   "nbconvert_exporter": "python",
   "pygments_lexer": "ipython3",
   "version": "3.10.12"
  }
 },
 "nbformat": 4,
 "nbformat_minor": 5
}
